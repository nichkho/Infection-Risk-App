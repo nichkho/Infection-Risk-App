{
 "cells": [
  {
   "cell_type": "markdown",
   "metadata": {},
   "source": [
    "# Website Demo for Infection Risk Calculator with Information Retrieved from Univeristy Systems"
   ]
  },
  {
   "cell_type": "markdown",
   "metadata": {},
   "source": [
    "**This is the demo for our website application which estimates infection risk based on building information** "
   ]
  },
  {
   "cell_type": "markdown",
   "metadata": {},
   "source": [
    "Import necessary packages and files"
   ]
  },
  {
   "cell_type": "code",
   "execution_count": 1,
   "metadata": {},
   "outputs": [
    {
     "ename": "SyntaxError",
     "evalue": "invalid syntax (calculator.py, line 151)",
     "output_type": "error",
     "traceback": [
      "Traceback \u001b[1;36m(most recent call last)\u001b[0m:\n",
      "  File \u001b[0;32m\"C:\\Users\\Nicholas Kho\\Anaconda3\\lib\\site-packages\\IPython\\core\\interactiveshell.py\"\u001b[0m, line \u001b[0;32m3319\u001b[0m, in \u001b[0;35mrun_code\u001b[0m\n    exec(code_obj, self.user_global_ns, self.user_ns)\n",
      "\u001b[1;36m  File \u001b[1;32m\"<ipython-input-1-b542906b3c05>\"\u001b[1;36m, line \u001b[1;32m17\u001b[1;36m, in \u001b[1;35m<module>\u001b[1;36m\u001b[0m\n\u001b[1;33m    from calculator import *\u001b[0m\n",
      "\u001b[1;36m  File \u001b[1;32m\"C:\\Users\\Nicholas Kho\\Documents\\GitHub\\heroku-test\\calculator.py\"\u001b[1;36m, line \u001b[1;32m151\u001b[0m\n\u001b[1;33m    Air Changes per Hour\u001b[0m\n\u001b[1;37m              ^\u001b[0m\n\u001b[1;31mSyntaxError\u001b[0m\u001b[1;31m:\u001b[0m invalid syntax\n"
     ]
    }
   ],
   "source": [
    "from jupyter_dash import JupyterDash\n",
    "import dash\n",
    "\n",
    "import plotly.express as px\n",
    "import os\n",
    "import visdcc\n",
    "import sys\n",
    "import dash_core_components as dcc\n",
    "import dash_html_components as html\n",
    "import dash\n",
    "import sys\n",
    "import os\n",
    "sys_path = os.path.dirname(os.getcwd())\n",
    "src_path = sys_path + \"/src\"\n",
    "\n",
    "sys.path.insert(1, src_path)\n",
    "from calculator import *\n",
    "assumptions = var\n",
    "src_path = sys_path + \"/notebook\"\n",
    "\n",
    "sys.path.insert(1, src_path)"
   ]
  },
  {
   "cell_type": "code",
   "execution_count": null,
   "metadata": {},
   "outputs": [],
   "source": [
    "#pip install jupyter-dash # Install jupyter-dash for running HTML in Python"
   ]
  },
  {
   "cell_type": "markdown",
   "metadata": {},
   "source": [
    "Import data"
   ]
  },
  {
   "cell_type": "code",
   "execution_count": null,
   "metadata": {},
   "outputs": [],
   "source": [
    "rid_path = 'rm.csv'\n",
    "#sys_path = os.path.dirname(os.getcwd())\n",
    "\n",
    "\n",
    "#data_path = sys_path + \"/data/\"\n",
    "\n",
    "room_df = pd.read_csv(rid_path)\n",
    "rooms = room_df.copy()\n",
    "\n",
    "rooms_id = []\n",
    "for rid in room_df['Room']:\n",
    "    rooms_id.append({'label': rid, 'value': rid})\n",
    "    \n",
    "rooms.head()"
   ]
  },
  {
   "cell_type": "markdown",
   "metadata": {},
   "source": [
    "demo run for debug purpose. "
   ]
  },
  {
   "cell_type": "markdown",
   "metadata": {},
   "source": [
    "**Build Website** "
   ]
  },
  {
   "cell_type": "code",
   "execution_count": null,
   "metadata": {},
   "outputs": [],
   "source": [
    "vav_room = {'Select...': [0,0,0]}\n",
    "index = 0\n",
    "for i in rooms['Room']:\n",
    "    vav_room[i] = [rooms['VAVmin'][index], rooms['VAVmax'][index], (rooms['VAVmin'][index] + rooms['VAVmax'][index])/2]\n",
    "    index += 1\n",
    "room_names =list(vav_room.keys())"
   ]
  },
  {
   "cell_type": "code",
   "execution_count": null,
   "metadata": {},
   "outputs": [],
   "source": [
    "external_stylesheets = ['https://codepen.io/chriddyp/pen/bWLwgP.css']\n",
    "external_scripts = ['event.js']\n",
    "\n",
    "\n",
    "app = JupyterDash(__name__, external_stylesheets = external_stylesheets, external_scripts = external_scripts)\n",
    "\n",
    "server = app.server\n",
    "activities = [{'label':'Lecture', 'value':'Lecture'}, {'label':'Studying', 'value':'Studying'}, {'label':'Singing', 'value':'Singing'}, {'label':'Social', 'value':'Social'}, {'label':'Exercising', 'value':'Exercising'}]\n",
    "\n",
    "\n",
    "\n",
    "\n",
    "data = pd.DataFrame()\n",
    "app.layout = html.Div([\n",
    "    html.H6(\"Event Information\"),\n",
    "    html.Div([\"RoomID: \",\n",
    "              dcc.Dropdown(id='room-dropdown', value = list(vav_room.keys())[0],options = [{'label':name, 'value':name} for name in room_names])]),\n",
    "    html.Br(),\n",
    "    html.Div([\"VAV levels: \",\n",
    "             dcc.Dropdown(id='vav-dropdown')]),\n",
    "    html.Br(),\n",
    "    html.Div([\"Duration of Event (min): \",\n",
    "              dcc.Input(id='time-input', value = 0, type='number')]),\n",
    "    html.Br(),\n",
    "    html.Div([\"Number of Occupants: \",\n",
    "              dcc.Input(id='occupant-input', value = 0, type='number')]),\n",
    "    html.Br(),\n",
    "    html.Div([\"Activity: \",\n",
    "              dcc.Dropdown(id='activity-dropdown', value ='test', options=activities)]),\n",
    "    html.Br(),\n",
    "    html.Div([\"Masks: \",\n",
    "              dcc.RadioItems(id = 'masks-radio', value = 0,\n",
    "    options=[\n",
    "        {'label': 'Masks', 'value': 1},\n",
    "        {'label': 'No Masks', 'value': 0},\n",
    "    ], labelStyle={'display': 'inline-block'})  ]),\n",
    "#     html.Br(),\n",
    "#     html.Button('Reset', id='reset-button'),\n",
    "    html.Br(),\n",
    "    html.Button('Go', id = 'go-button', n_clicks = 0),\n",
    "    html.Br(),\n",
    "    html.Div(id = 'calc-output', children = 'Enter values to calculate risk'), \n",
    "    html.Button(\"Add to Visualization\", id = \"addvi\", n_clicks = 0), \n",
    "    visdcc.Run_js(id = 'jct'), \n",
    "    html.Br(), \n",
    "    #html.Div([dcc.Graph(id = 'vi')], style={'width': '70%', 'display': 'inline-block', 'padding': '0 20'})\n",
    "    html.Div(id = 'return_value')\n",
    "])\n",
    "\n",
    "@app.callback(\n",
    "    dash.dependencies.Output('vav-dropdown', 'options'),\n",
    "    [dash.dependencies.Input('room-dropdown', 'value')]\n",
    ")\n",
    "def update_date_dropdown(name):\n",
    "    return [{'label': 'cfm min', 'value': \"min\"}, {'label': 'current', 'value': \"current\"}, {'label': 'cfm max', 'value': \"max\"}]\n",
    "\n",
    "@app.callback(\n",
    "    dash.dependencies.Output('calc-output', 'children'),\n",
    "    [dash.dependencies.Input('go-button', 'n_clicks')],\n",
    "    [dash.dependencies.Input('activity-dropdown', 'value')],\n",
    "    [dash.dependencies.Input('room-dropdown', 'value')],\n",
    "    [dash.dependencies.Input('vav-dropdown', 'value')],\n",
    "    [dash.dependencies.Input('masks-radio', 'value')],\n",
    "    [dash.dependencies.State('time-input', 'value')],\n",
    "    [dash.dependencies.State('occupant-input', 'value')]\n",
    ")\n",
    "def update_calc(n_clicks, activity_dropdown, room_input,vav_dropdown, mask_tf, time_input, occupant_input):\n",
    "    if n_clicks >= 1:\n",
    "        comp_ir = ui_calc(activity_dropdown, room_input, time_input, occupant_input, mask_tf, rid_path, vav_dropdown)\n",
    "        total_inf = int(occupant_input * comp_ir)\n",
    "        to_return = 'The risk of an individual infected because of holding a(n) {} event for {} minutes in {} is {}%, given the most recent infection rates. With {} occupants, it is likely that {} occupant(s) will be infected.'.format(activity_dropdown, \n",
    "                                                                                                                                time_input, \n",
    "                                                                                                                                room_input, \n",
    "                                                                                                                                round((comp_ir * 100),2), \n",
    "                                                                                                                                occupant_input,\n",
    "                                                                                                                                total_inf)\n",
    "        return to_return\n",
    "    else:\n",
    "        return 'Enter Values to get risk calculation' \n",
    "   \n",
    "\n",
    "@app.callback(\n",
    "    dash.dependencies.Output('return_value', 'children'),\n",
    "    [dash.dependencies.Input('go-button', 'n_clicks')], \n",
    "    [dash.dependencies.Input('activity-dropdown', 'value')],\n",
    "    [dash.dependencies.Input('room-dropdown', 'value')],\n",
    "    [dash.dependencies.Input('vav-dropdown', 'value')],\n",
    "    [dash.dependencies.Input('masks-radio', 'value')],\n",
    "    [dash.dependencies.State('time-input', 'value')],\n",
    "    [dash.dependencies.State('occupant-input', 'value')])\n",
    "def reval(n_clicks, activity_dropdown, room_input,vav_dropdown, mask_tf, time_input, occupant_input):\n",
    "    if n_clicks >= 1:\n",
    "        ir = ui_calc(activity_dropdown, room_input, time_input, occupant_input, mask_tf, rid_path, vav_dropdown)\n",
    "        results = str({\"act\": activity_dropdown, \"rm\": room_input, \"ti\": time_input, \"occupants\": occupant_input, \"masks\": mask_tf, \n",
    "                      \"ir\": round((ir * 100),2)})\n",
    "        return results\n",
    "    return \"\"\n",
    "\n",
    "@app.callback(\n",
    "    dash.dependencies.Output('jct', 'run'),\n",
    "    [dash.dependencies.Input('addvi', 'n_clicks')])\n",
    "def myfun(n_clicks): \n",
    "    if n_clicks >= 1: \n",
    "        return \"message()\"\n",
    "    return \"console.log(0)\""
   ]
  },
  {
   "cell_type": "code",
   "execution_count": 2,
   "metadata": {
    "scrolled": false
   },
   "outputs": [
    {
     "ename": "NameError",
     "evalue": "name 'app' is not defined",
     "output_type": "error",
     "traceback": [
      "\u001b[1;31m---------------------------------------------------------------------------\u001b[0m",
      "\u001b[1;31mNameError\u001b[0m                                 Traceback (most recent call last)",
      "\u001b[1;32m<ipython-input-2-02724be385ae>\u001b[0m in \u001b[0;36m<module>\u001b[1;34m\u001b[0m\n\u001b[1;32m----> 1\u001b[1;33m \u001b[0mapp\u001b[0m\u001b[1;33m.\u001b[0m\u001b[0mrun_server\u001b[0m\u001b[1;33m(\u001b[0m\u001b[0mmode\u001b[0m\u001b[1;33m=\u001b[0m\u001b[1;34m\"inline\"\u001b[0m\u001b[1;33m)\u001b[0m\u001b[1;33m\u001b[0m\u001b[0m\n\u001b[0m",
      "\u001b[1;31mNameError\u001b[0m: name 'app' is not defined"
     ]
    }
   ],
   "source": [
    "app.run_server(mode=\"inline\")"
   ]
  },
  {
   "cell_type": "code",
   "execution_count": null,
   "metadata": {},
   "outputs": [],
   "source": []
  },
  {
   "cell_type": "code",
   "execution_count": null,
   "metadata": {},
   "outputs": [],
   "source": []
  }
 ],
 "metadata": {
  "kernelspec": {
   "display_name": "Python 3",
   "language": "python",
   "name": "python3"
  },
  "language_info": {
   "codemirror_mode": {
    "name": "ipython",
    "version": 3
   },
   "file_extension": ".py",
   "mimetype": "text/x-python",
   "name": "python",
   "nbconvert_exporter": "python",
   "pygments_lexer": "ipython3",
   "version": "3.6.5"
  }
 },
 "nbformat": 4,
 "nbformat_minor": 2
}
