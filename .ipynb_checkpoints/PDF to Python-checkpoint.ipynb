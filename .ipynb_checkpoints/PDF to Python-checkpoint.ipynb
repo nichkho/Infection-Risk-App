{
 "cells": [
  {
   "cell_type": "code",
   "execution_count": 13,
   "metadata": {},
   "outputs": [
    {
     "name": "stdout",
     "output_type": "stream",
     "text": [
      "Collecting tika\n",
      "  Downloading https://files.pythonhosted.org/packages/96/07/244fbb9c74c0de8a3745cc9f3f496077a29f6418c7cbd90d68fd799574cb/tika-1.24.tar.gz\n",
      "Requirement already satisfied: setuptools in c:\\users\\nicholas kho\\anaconda3\\lib\\site-packages (from tika) (42.0.2.post20191203)\n",
      "Requirement already satisfied: requests in c:\\users\\nicholas kho\\anaconda3\\lib\\site-packages (from tika) (2.22.0)\n",
      "Requirement already satisfied: certifi>=2017.4.17 in c:\\users\\nicholas kho\\anaconda3\\lib\\site-packages (from requests->tika) (2020.12.5)\n",
      "Requirement already satisfied: idna<2.9,>=2.5 in c:\\users\\nicholas kho\\anaconda3\\lib\\site-packages (from requests->tika) (2.8)\n",
      "Requirement already satisfied: chardet<3.1.0,>=3.0.2 in c:\\users\\nicholas kho\\anaconda3\\lib\\site-packages (from requests->tika) (3.0.4)\n",
      "Requirement already satisfied: urllib3!=1.25.0,!=1.25.1,<1.26,>=1.21.1 in c:\\users\\nicholas kho\\anaconda3\\lib\\site-packages (from requests->tika) (1.25.7)\n",
      "Building wheels for collected packages: tika\n",
      "  Building wheel for tika (setup.py): started\n",
      "  Building wheel for tika (setup.py): finished with status 'done'\n",
      "  Created wheel for tika: filename=tika-1.24-cp36-none-any.whl size=32888 sha256=fd29b98d134f3536762ebaebc62b0b6b60c373e034bdd4d68924607d24d9466e\n",
      "  Stored in directory: C:\\Users\\Nicholas Kho\\AppData\\Local\\pip\\Cache\\wheels\\73\\9c\\f5\\0b1b738442fc2a2862bef95b908b374f8e80215550fb2a8975\n",
      "Successfully built tika\n",
      "Installing collected packages: tika\n",
      "Successfully installed tika-1.24\n"
     ]
    }
   ],
   "source": [
    "!pip install tika"
   ]
  },
  {
   "cell_type": "code",
   "execution_count": 15,
   "metadata": {},
   "outputs": [],
   "source": [
    "from tika import parser # pip install tika"
   ]
  },
  {
   "cell_type": "code",
   "execution_count": 17,
   "metadata": {},
   "outputs": [
    {
     "name": "stderr",
     "output_type": "stream",
     "text": [
      "2021-02-19 12:25:37,769 [MainThread  ] [INFO ]  Retrieving http://search.maven.org/remotecontent?filepath=org/apache/tika/tika-server/1.24/tika-server-1.24.jar to C:\\Users\\NICHOL~1\\AppData\\Local\\Temp\\tika-server.jar.\n",
      "2021-02-19 12:26:10,089 [MainThread  ] [INFO ]  Retrieving http://search.maven.org/remotecontent?filepath=org/apache/tika/tika-server/1.24/tika-server-1.24.jar.md5 to C:\\Users\\NICHOL~1\\AppData\\Local\\Temp\\tika-server.jar.md5.\n",
      "2021-02-19 12:26:10,992 [MainThread  ] [WARNI]  Failed to see startup log message; retrying...\n"
     ]
    }
   ],
   "source": [
    "raw = parser.from_file('171-1.pdf')"
   ]
  },
  {
   "cell_type": "code",
   "execution_count": 37,
   "metadata": {
    "scrolled": true
   },
   "outputs": [
    {
     "data": {
      "text/plain": [
       "'\\n\\n\\n\\n\\n\\n\\n\\n\\n\\n\\n\\n\\n\\n\\n\\n\\n\\n\\n\\n\\n\\n\\n\\n\\n\\n\\n\\n\\n\\n\\n\\n\\n\\n\\n\\n\\n\\n\\nModel\\n\\n\\nAutoCAD SHX Text\\nROOF LINE\\n\\nAutoCAD SHX Text\\nROOF LINE\\n\\nAutoCAD SHX Text\\nROOF LINE\\n\\nAutoCAD SHX Text\\nROOF LINE\\n\\nAutoCAD SHX Text\\nROOF LINE\\n\\nAutoCAD SHX Text\\nROOF LINE\\n\\nAutoCAD SHX Text\\nN\\n\\nAutoCAD SHX Text\\nS\\n\\nAutoCAD SHX Text\\nE\\n\\nAutoCAD SHX Text\\nW\\n\\nAutoCAD SHX Text\\nROOF LINE\\n\\nAutoCAD SHX Text\\nSTAIRS OVERHEAD\\n\\nAutoCAD SHX Text\\nUP\\n\\nAutoCAD SHX Text\\nDN.\\n\\nAutoCAD SHX Text\\nUP\\n\\nAutoCAD SHX Text\\nRAMP DN.\\n\\nAutoCAD SHX Text\\nRAMP DN.\\n\\nAutoCAD SHX Text\\nUP\\n\\nAutoCAD SHX Text\\nRAMP DN.\\n\\nAutoCAD SHX Text\\nUP\\n\\nAutoCAD SHX Text\\nDN.\\n\\nAutoCAD SHX Text\\nUP\\n\\nAutoCAD SHX Text\\nDN.\\n\\nAutoCAD SHX Text\\nDN.\\n\\nAutoCAD SHX Text\\nRAMP DN.\\n\\nAutoCAD SHX Text\\nDN.\\n\\nAutoCAD SHX Text\\nDN.\\n\\nAutoCAD SHX Text\\nUP\\n\\nAutoCAD SHX Text\\nDN.\\n\\nAutoCAD SHX Text\\nRAMP DN.\\n\\nAutoCAD SHX Text\\nRAMP DN.\\n\\nAutoCAD SHX Text\\n(G)171-1-5 118\\n\\nAutoCAD SHX Text\\n(G)171-1-2 4725\\n\\nAutoCAD SHX Text\\n(G)171-1-3 733\\n\\nAutoCAD SHX Text\\n(MS)151 30\\n\\nAutoCAD SHX Text\\n(MS)153 63\\n\\nAutoCAD SHX Text\\n(MS)180 49\\n\\nAutoCAD SHX Text\\n(MS)154 42\\n\\nAutoCAD SHX Text\\n(MS)156 8\\n\\nAutoCAD SHX Text\\n(MS)157 43\\n\\nAutoCAD SHX Text\\n(MS)159 16\\n\\nAutoCAD SHX Text\\n(MS)160 9\\n\\nAutoCAD SHX Text\\n(MS)161 19\\n\\nAutoCAD SHX Text\\n(MS)163 59\\n\\nAutoCAD SHX Text\\n(MS)164 52\\n\\nAutoCAD SHX Text\\n(MS)165 80\\n\\nAutoCAD SHX Text\\n(MS)166 8\\n\\nAutoCAD SHX Text\\n(MS)167 84\\n\\nAutoCAD SHX Text\\n(MS)168 121\\n\\nAutoCAD SHX Text\\n(MS)170 17\\n\\nAutoCAD SHX Text\\n(G)171-1-6 94\\n\\nAutoCAD SHX Text\\n(M)124 17\\n\\nAutoCAD SHX Text\\n(MS)155 8\\n\\nAutoCAD SHX Text\\n(MS)169 32\\n\\nAutoCAD SHX Text\\n(MS)123A 29\\n\\nAutoCAD SHX Text\\n(MS)122A 23\\n\\nAutoCAD SHX Text\\n(MS)168A 20\\n\\nAutoCAD SHX Text\\n(MS)119D 9\\n\\nAutoCAD SHX Text\\n(MS)119B 10\\n\\nAutoCAD SHX Text\\n(MS)119A 10\\n\\nAutoCAD SHX Text\\n(MS)117B 10\\n\\nAutoCAD SHX Text\\n(MS)117A 10\\n\\nAutoCAD SHX Text\\n(MS)115B 9\\n\\nAutoCAD SHX Text\\n(MS)115A 9\\n\\nAutoCAD SHX Text\\n(MS)113A 9\\n\\nAutoCAD SHX Text\\n(MS)112A 5\\n\\nAutoCAD SHX Text\\n(MS)111A 8\\n\\nAutoCAD SHX Text\\n(MS)109C 5\\n\\nAutoCAD SHX Text\\n(MS)109A 8\\n\\nAutoCAD SHX Text\\n(MS)108A 5\\n\\nAutoCAD SHX Text\\n(MS)107A 8\\n\\nAutoCAD SHX Text\\n(MS)105C 5\\n\\nAutoCAD SHX Text\\n(MS)105A 8\\n\\nAutoCAD SHX Text\\n(MS)104A 18\\n\\nAutoCAD SHX Text\\n(MS)100D 9\\n\\nAutoCAD SHX Text\\n(MS)100C 9\\n\\nAutoCAD SHX Text\\n(MS)100B 9\\n\\nAutoCAD SHX Text\\n(MS)100A 9\\n\\nAutoCAD SHX Text\\n(MS)158 100\\n\\nAutoCAD SHX Text\\n(CE)146 65\\n\\nAutoCAD SHX Text\\n(CE)145 60\\n\\nAutoCAD SHX Text\\n(CU)171-1-5 707\\n\\nAutoCAD SHX Text\\n(CU)171-1-4 823\\n\\nAutoCAD SHX Text\\n120 130\\n\\nAutoCAD SHX Text\\n117A 42\\n\\nAutoCAD SHX Text\\n(TW)123 257\\n\\nAutoCAD SHX Text\\n(TM)122 190\\n\\nAutoCAD SHX Text\\n(J)121 31\\n\\nAutoCAD SHX Text\\n(M)125 65\\n\\nAutoCAD SHX Text\\n(C)102 141\\n\\nAutoCAD SHX Text\\n101A 102\\n\\nAutoCAD SHX Text\\n(C)100 353\\n\\nAutoCAD SHX Text\\n(M)103 166\\n\\nAutoCAD SHX Text\\n105A 117\\n\\nAutoCAD SHX Text\\n114 149\\n\\nAutoCAD SHX Text\\n111A 43\\n\\nAutoCAD SHX Text\\n107A 43\\n\\nAutoCAD SHX Text\\n(C)108A 376\\n\\nAutoCAD SHX Text\\n106 149\\n\\nAutoCAD SHX Text\\n(C)112A 376\\n\\nAutoCAD SHX Text\\n110 149\\n\\nAutoCAD SHX Text\\n(C)118 423\\n\\nAutoCAD SHX Text\\n116 131\\n\\nAutoCAD SHX Text\\n119 2144\\n\\nAutoCAD SHX Text\\n115 2143\\n\\nAutoCAD SHX Text\\n113 1619\\n\\nAutoCAD SHX Text\\n109 1644\\n\\nAutoCAD SHX Text\\n105 1622\\n\\nAutoCAD SHX Text\\n101 3428\\n\\nAutoCAD SHX Text\\n(G)171-1-4 159\\n\\nAutoCAD SHX Text\\n(CU)171-1-1 1983\\n\\nAutoCAD SHX Text\\n(CU)171-1-0 5720\\n\\nAutoCAD SHX Text\\n(G)171-1-0 7546\\n\\nAutoCAD SHX Text\\n(G)171-1-1 5783\\n\\nAutoCAD SHX Text\\n(MS)113B 9\\n\\nAutoCAD SHX Text\\n(MS)111B 11\\n\\nAutoCAD SHX Text\\n(MS)109B 11\\n\\nAutoCAD SHX Text\\n(MS)107B 11\\n\\nAutoCAD SHX Text\\n(MS)105B 11\\n\\nAutoCAD SHX Text\\n(MS)162 25\\n\\nAutoCAD SHX Text\\n(MS)171 58\\n\\nAutoCAD SHX Text\\n(XX)126 617\\n\\nAutoCAD SHX Text\\n(CU)171-1-6 208\\n\\nAutoCAD SHX Text\\n(CU)171-1-3 832\\n\\nAutoCAD SHX Text\\n(CU)171-1-2 1130\\n\\nAutoCAD SHX Text\\nDN.\\n\\nAutoCAD SHX Text\\nDN.\\n\\nAutoCAD SHX Text\\nDN.\\n\\nAutoCAD SHX Text\\nDN.\\n\\nAutoCAD SHX Text\\nDN.\\n\\nAutoCAD SHX Text\\nDN.\\n\\nAutoCAD SHX Text\\nDN.\\n\\nAutoCAD SHX Text\\nDN.\\n\\nAutoCAD SHX Text\\nDN.\\n\\nAutoCAD SHX Text\\nDN.\\n\\nAutoCAD SHX Text\\nDN.\\n\\nAutoCAD SHX Text\\nDN.\\n\\nAutoCAD SHX Text\\nDN.\\n\\nAutoCAD SHX Text\\nDN.\\n\\nAutoCAD SHX Text\\nUC SAN DIEGO\\n\\nAutoCAD SHX Text\\nN.L.\\n\\nAutoCAD SHX Text\\nDRAFTER\\n\\nAutoCAD SHX Text\\nFIRST FLOOR\\n\\nAutoCAD SHX Text\\nCENTER HALL\\n\\nAutoCAD SHX Text\\n04/08/19\\n\\n\\n'"
      ]
     },
     "execution_count": 37,
     "metadata": {},
     "output_type": "execute_result"
    }
   ],
   "source": [
    "raw['content']"
   ]
  },
  {
   "cell_type": "code",
   "execution_count": 48,
   "metadata": {},
   "outputs": [],
   "source": [
    "filtered = list(filter(None, raw['content'].strip('\\n').split('\\n')))"
   ]
  },
  {
   "cell_type": "code",
   "execution_count": 49,
   "metadata": {},
   "outputs": [],
   "source": [
    "while 'AutoCAD SHX Text' in filtered: filtered.remove('AutoCAD SHX Text')  "
   ]
  },
  {
   "cell_type": "code",
   "execution_count": 50,
   "metadata": {
    "scrolled": true
   },
   "outputs": [
    {
     "data": {
      "text/plain": [
       "['Model',\n",
       " 'ROOF LINE',\n",
       " 'ROOF LINE',\n",
       " 'ROOF LINE',\n",
       " 'ROOF LINE',\n",
       " 'ROOF LINE',\n",
       " 'ROOF LINE',\n",
       " 'N',\n",
       " 'S',\n",
       " 'E',\n",
       " 'W',\n",
       " 'ROOF LINE',\n",
       " 'STAIRS OVERHEAD',\n",
       " 'UP',\n",
       " 'DN.',\n",
       " 'UP',\n",
       " 'RAMP DN.',\n",
       " 'RAMP DN.',\n",
       " 'UP',\n",
       " 'RAMP DN.',\n",
       " 'UP',\n",
       " 'DN.',\n",
       " 'UP',\n",
       " 'DN.',\n",
       " 'DN.',\n",
       " 'RAMP DN.',\n",
       " 'DN.',\n",
       " 'DN.',\n",
       " 'UP',\n",
       " 'DN.',\n",
       " 'RAMP DN.',\n",
       " 'RAMP DN.',\n",
       " '(G)171-1-5 118',\n",
       " '(G)171-1-2 4725',\n",
       " '(G)171-1-3 733',\n",
       " '(MS)151 30',\n",
       " '(MS)153 63',\n",
       " '(MS)180 49',\n",
       " '(MS)154 42',\n",
       " '(MS)156 8',\n",
       " '(MS)157 43',\n",
       " '(MS)159 16',\n",
       " '(MS)160 9',\n",
       " '(MS)161 19',\n",
       " '(MS)163 59',\n",
       " '(MS)164 52',\n",
       " '(MS)165 80',\n",
       " '(MS)166 8',\n",
       " '(MS)167 84',\n",
       " '(MS)168 121',\n",
       " '(MS)170 17',\n",
       " '(G)171-1-6 94',\n",
       " '(M)124 17',\n",
       " '(MS)155 8',\n",
       " '(MS)169 32',\n",
       " '(MS)123A 29',\n",
       " '(MS)122A 23',\n",
       " '(MS)168A 20',\n",
       " '(MS)119D 9',\n",
       " '(MS)119B 10',\n",
       " '(MS)119A 10',\n",
       " '(MS)117B 10',\n",
       " '(MS)117A 10',\n",
       " '(MS)115B 9',\n",
       " '(MS)115A 9',\n",
       " '(MS)113A 9',\n",
       " '(MS)112A 5',\n",
       " '(MS)111A 8',\n",
       " '(MS)109C 5',\n",
       " '(MS)109A 8',\n",
       " '(MS)108A 5',\n",
       " '(MS)107A 8',\n",
       " '(MS)105C 5',\n",
       " '(MS)105A 8',\n",
       " '(MS)104A 18',\n",
       " '(MS)100D 9',\n",
       " '(MS)100C 9',\n",
       " '(MS)100B 9',\n",
       " '(MS)100A 9',\n",
       " '(MS)158 100',\n",
       " '(CE)146 65',\n",
       " '(CE)145 60',\n",
       " '(CU)171-1-5 707',\n",
       " '(CU)171-1-4 823',\n",
       " '120 130',\n",
       " '117A 42',\n",
       " '(TW)123 257',\n",
       " '(TM)122 190',\n",
       " '(J)121 31',\n",
       " '(M)125 65',\n",
       " '(C)102 141',\n",
       " '101A 102',\n",
       " '(C)100 353',\n",
       " '(M)103 166',\n",
       " '105A 117',\n",
       " '114 149',\n",
       " '111A 43',\n",
       " '107A 43',\n",
       " '(C)108A 376',\n",
       " '106 149',\n",
       " '(C)112A 376',\n",
       " '110 149',\n",
       " '(C)118 423',\n",
       " '116 131',\n",
       " '119 2144',\n",
       " '115 2143',\n",
       " '113 1619',\n",
       " '109 1644',\n",
       " '105 1622',\n",
       " '101 3428',\n",
       " '(G)171-1-4 159',\n",
       " '(CU)171-1-1 1983',\n",
       " '(CU)171-1-0 5720',\n",
       " '(G)171-1-0 7546',\n",
       " '(G)171-1-1 5783',\n",
       " '(MS)113B 9',\n",
       " '(MS)111B 11',\n",
       " '(MS)109B 11',\n",
       " '(MS)107B 11',\n",
       " '(MS)105B 11',\n",
       " '(MS)162 25',\n",
       " '(MS)171 58',\n",
       " '(XX)126 617',\n",
       " '(CU)171-1-6 208',\n",
       " '(CU)171-1-3 832',\n",
       " '(CU)171-1-2 1130',\n",
       " 'DN.',\n",
       " 'DN.',\n",
       " 'DN.',\n",
       " 'DN.',\n",
       " 'DN.',\n",
       " 'DN.',\n",
       " 'DN.',\n",
       " 'DN.',\n",
       " 'DN.',\n",
       " 'DN.',\n",
       " 'DN.',\n",
       " 'DN.',\n",
       " 'DN.',\n",
       " 'DN.',\n",
       " 'UC SAN DIEGO',\n",
       " 'N.L.',\n",
       " 'DRAFTER',\n",
       " 'FIRST FLOOR',\n",
       " 'CENTER HALL',\n",
       " '04/08/19']"
      ]
     },
     "execution_count": 50,
     "metadata": {},
     "output_type": "execute_result"
    }
   ],
   "source": [
    "filtered"
   ]
  },
  {
   "cell_type": "code",
   "execution_count": null,
   "metadata": {},
   "outputs": [],
   "source": []
  }
 ],
 "metadata": {
  "kernelspec": {
   "display_name": "Python 3",
   "language": "python",
   "name": "python3"
  },
  "language_info": {
   "codemirror_mode": {
    "name": "ipython",
    "version": 3
   },
   "file_extension": ".py",
   "mimetype": "text/x-python",
   "name": "python",
   "nbconvert_exporter": "python",
   "pygments_lexer": "ipython3",
   "version": "3.6.5"
  }
 },
 "nbformat": 4,
 "nbformat_minor": 2
}
