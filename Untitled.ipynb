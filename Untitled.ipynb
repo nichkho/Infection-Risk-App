{
 "cells": [
  {
   "cell_type": "code",
   "execution_count": 1,
   "metadata": {},
   "outputs": [],
   "source": [
    "from jupyter_dash import JupyterDash\n",
    "import dash\n",
    "import os\n",
    "import sys\n",
    "from calculator import *\n",
    "import dash_core_components as dcc\n",
    "import dash_html_components as html\n",
    "import dash"
   ]
  },
  {
   "cell_type": "code",
   "execution_count": 2,
   "metadata": {},
   "outputs": [],
   "source": [
    "rid_path = r'rm.csv'"
   ]
  },
  {
   "cell_type": "code",
   "execution_count": 3,
   "metadata": {},
   "outputs": [],
   "source": [
    "room_df = pd.read_csv(rid_path)\n",
    "rooms = []\n",
    "for rid in room_df['Room']:\n",
    "    rooms.append({'label': rid, 'value': rid})"
   ]
  },
  {
   "cell_type": "code",
   "execution_count": 9,
   "metadata": {},
   "outputs": [],
   "source": [
    "external_stylesheets = ['https://codepen.io/chriddyp/pen/bWLwgP.css']\n",
    "app = JupyterDash(__name__, external_stylesheets=external_stylesheets)\n",
    "\n",
    "server = app.server\n",
    "activities = [{'label':'Lecture', 'value':'Lecture'}, {'label':'Studying', 'value':'Studying'}, {'label':'Singing', 'value':'Singing'}, {'label':'Social', 'value':'Social'}, {'label':'Exercising', 'value':'Exercising'}]\n",
    "app.layout = html.Div([\n",
    "    html.H6(\"Event Information\"),\n",
    "    #MAKE ROOM ID A DROP DOWN?\n",
    "    html.Div([\"RoomID: \",\n",
    "              dcc.Dropdown(id='room-dropdown', value='test', options=rooms)]), #placeholder rooms\n",
    "    html.Br(),\n",
    "    html.Div([\"Duration of Event (min): \",\n",
    "              dcc.Input(id='time-input', value = 0, type='number')]),\n",
    "    html.Br(),\n",
    "    html.Div([\"Number of Occupants: \",\n",
    "              dcc.Input(id='occupant-input', value = 0, type='number')]),\n",
    "    html.Br(),\n",
    "    html.Div([\"Activity: \",\n",
    "              dcc.Dropdown(id='activity-dropdown', value ='test', options=activities)]),\n",
    "#     html.Br(),\n",
    "#     html.Button('Reset', id='reset-button'),\n",
    "    html.Br(),\n",
    "    html.Button('Go', id = 'go-button', n_clicks = 0),\n",
    "    html.Br(),\n",
    "    html.Div(id = 'calc-output', children = 'Enter values to calculate risk')\n",
    "\n",
    "])\n",
    "\n",
    "@app.callback(\n",
    "    dash.dependencies.Output('calc-output', 'children'),\n",
    "    [dash.dependencies.Input('go-button', 'n_clicks')],\n",
    "    [dash.dependencies.Input('activity-dropdown', 'value')],\n",
    "    [dash.dependencies.Input('room-dropdown', 'value')],\n",
    "    [dash.dependencies.State('time-input', 'value')],\n",
    "    [dash.dependencies.State('occupant-input', 'value')]\n",
    ")\n",
    "def update_calc(n_clicks, activity_dropdown, room_input, time_input, occupant_input):\n",
    "    if n_clicks >= 1:\n",
    "        comp_ir = ui_calc(activity_dropdown, room_input, time_input, occupant_input, rid_path)\n",
    "        total_inf = int(occupant_input * comp_ir)\n",
    "        to_return = 'The risk of holding a(n) {} event for {} minutes in {} is {}%, given the most recent infection rates. With {} occupants, it is likely that {} occupant(s) will be infected.'.format(activity_dropdown, \n",
    "                                                                                                                                time_input, \n",
    "                                                                                                                                room_input, \n",
    "                                                                                                                                round((comp_ir * 100),2), \n",
    "                                                                                                                                occupant_input,\n",
    "                                                                                                                                total_inf)\n",
    "        return to_return\n",
    "    else:\n",
    "        return 'Enter Values to get risk calculation'"
   ]
  },
  {
   "cell_type": "code",
   "execution_count": 10,
   "metadata": {},
   "outputs": [
    {
     "data": {
      "text/html": [
       "\n",
       "        <iframe\n",
       "            width=\"100%\"\n",
       "            height=\"650\"\n",
       "            src=\"http://127.0.0.1:8050/\"\n",
       "            frameborder=\"0\"\n",
       "            allowfullscreen\n",
       "        ></iframe>\n",
       "        "
      ],
      "text/plain": [
       "<IPython.lib.display.IFrame at 0x1ec41415ef0>"
      ]
     },
     "metadata": {},
     "output_type": "display_data"
    }
   ],
   "source": [
    "app.run_server(mode=\"inline\")"
   ]
  },
  {
   "cell_type": "code",
   "execution_count": null,
   "metadata": {},
   "outputs": [],
   "source": []
  }
 ],
 "metadata": {
  "kernelspec": {
   "display_name": "Python 3",
   "language": "python",
   "name": "python3"
  },
  "language_info": {
   "codemirror_mode": {
    "name": "ipython",
    "version": 3
   },
   "file_extension": ".py",
   "mimetype": "text/x-python",
   "name": "python",
   "nbconvert_exporter": "python",
   "pygments_lexer": "ipython3",
   "version": "3.6.5"
  }
 },
 "nbformat": 4,
 "nbformat_minor": 2
}
