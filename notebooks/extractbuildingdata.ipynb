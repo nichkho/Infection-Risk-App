{
 "cells": [
  {
   "cell_type": "code",
   "execution_count": 1,
   "metadata": {},
   "outputs": [],
   "source": [
    "import pandas as pd"
   ]
  },
  {
   "cell_type": "code",
   "execution_count": 100,
   "metadata": {},
   "outputs": [],
   "source": [
    "room_df = pd.read_csv('building_area/Rooms.csv')"
   ]
  },
  {
   "cell_type": "code",
   "execution_count": 101,
   "metadata": {},
   "outputs": [],
   "source": [
    "room_df = room_df[room_df['Category'].str.match('A - Assignable Area')][['Building', \n",
    "                                                                             'Room', \n",
    "                                                                             'Area', \n",
    "                                                                             'Room Use (S)',\n",
    "                                                                             'CPEC Code']]"
   ]
  },
  {
   "cell_type": "code",
   "execution_count": 102,
   "metadata": {},
   "outputs": [
    {
     "name": "stdout",
     "output_type": "stream",
     "text": [
      "3428\n",
      "102\n",
      "1622\n",
      "117\n",
      "149\n"
     ]
    }
   ],
   "source": [
    "for index, row in room_df.head().iterrows():\n",
    "        print(row['Area'])"
   ]
  },
  {
   "cell_type": "code",
   "execution_count": 103,
   "metadata": {},
   "outputs": [],
   "source": [
    "#Returns \n",
    "def extract_buildingData(bd_filepath, building_name):\n",
    "    room_df = pd.read_csv(bd_filepath)\n",
    "    room_df = room_df[room_df['Category'].str.match('A - Assignable Area')][['Building', \n",
    "                                                                             'Room', \n",
    "                                                                             'Area', \n",
    "                                                                             'Room Use (S)',\n",
    "                                                                             'CPEC Code']]\n",
    "    if building_name != room_df[['Building']]['Building'].unique()[0]:\n",
    "        print('Error: Building Name of input file does not match desired Building Name')\n",
    "        print('Building Name is {}'.format(room_df[['Building']]))\n",
    "    room_df\n",
    "    return room_df\n",
    "    \n",
    "    "
   ]
  },
  {
   "cell_type": "code",
   "execution_count": 94,
   "metadata": {},
   "outputs": [
    {
     "data": {
      "text/plain": [
       "array(['110 - Classroom (S)', '125 - Classroom Service (S)',\n",
       "       '565 - Media Production Service (S)',\n",
       "       '320 - Administrative Office - Enclosed (S)',\n",
       "       '340 - Conference Room (S)', '335 - Office Service (S)',\n",
       "       '470 - Tutorial / Training Room (N)',\n",
       "       '320 - Administrative Office - Open (S)'], dtype=object)"
      ]
     },
     "execution_count": 94,
     "metadata": {},
     "output_type": "execute_result"
    }
   ],
   "source": [
    "room_df['Room Use (S)'].unique()"
   ]
  },
  {
   "cell_type": "markdown",
   "metadata": {},
   "source": [
    "![](images/ashrae2.png)"
   ]
  },
  {
   "cell_type": "markdown",
   "metadata": {},
   "source": [
    "![](images/ashrae.png)"
   ]
  },
  {
   "cell_type": "code",
   "execution_count": null,
   "metadata": {},
   "outputs": [],
   "source": [
    "def impute_buildingData(room_df):\n",
    "    for index, row in room_df.iterrows():\n",
    "        CLASSROOM_\n",
    "        #Based on the area we can imput airflow given ANSI/ASHRAE Standards\n",
    "        #url: https://www.ashrae.org/File%20Library/Technical%20Resources/Standards%20and%20Guidelines/Standards%20Addenda/62.1-2016/62_1_2016_s_20190726.pdf\n",
    "        r_use = row['Room Use (S)']\n",
    "        area = row['Area']\n",
    "        #If specified room is a designated as a classroom\n",
    "        #Then impute classroom CFM given area\n",
    "        if r_use == 'Classroom (S)':\n",
    "            \n",
    "        \n",
    "        "
   ]
  },
  {
   "cell_type": "code",
   "execution_count": null,
   "metadata": {},
   "outputs": [],
   "source": [
    "def append_roomData(room_df, Master_room_df):\n",
    "    "
   ]
  }
 ],
 "metadata": {
  "kernelspec": {
   "display_name": "Python 3",
   "language": "python",
   "name": "python3"
  },
  "language_info": {
   "codemirror_mode": {
    "name": "ipython",
    "version": 3
   },
   "file_extension": ".py",
   "mimetype": "text/x-python",
   "name": "python",
   "nbconvert_exporter": "python",
   "pygments_lexer": "ipython3",
   "version": "3.6.2"
  }
 },
 "nbformat": 4,
 "nbformat_minor": 4
}
