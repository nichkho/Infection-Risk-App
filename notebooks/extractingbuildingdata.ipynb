{
 "cells": [
  {
   "cell_type": "code",
   "execution_count": 2,
   "metadata": {},
   "outputs": [],
   "source": [
    "import pandas as pd\n",
    "import assumptions\n",
    "\n",
    "var = assumptions.var"
   ]
  },
  {
   "cell_type": "code",
   "execution_count": 3,
   "metadata": {},
   "outputs": [],
   "source": [
    "room_df = pd.read_csv('building_area/APMRooms.csv')"
   ]
  },
  {
   "cell_type": "code",
   "execution_count": 4,
   "metadata": {},
   "outputs": [],
   "source": [
    "#Returns \n",
    "def extract_buildingData(bd_filepath, building_name):\n",
    "    room_df = pd.read_csv(bd_filepath)\n",
    "    room_df = room_df[room_df['Category'].str.match('A - Assignable Area')][['Building', \n",
    "                                                                             'Room', \n",
    "                                                                             'Area', \n",
    "                                                                             'Room Use (S)',\n",
    "                                                                             'Stations']]\n",
    "\n",
    "    if building_name != room_df[['Building']]['Building'].unique()[0]:\n",
    "        print('Error: Building Name of input file does not match desired Building Name')\n",
    "        print('Building Name from file is {}'.format(room_df[['Building']]))\n",
    "    searchfor = ['Storage', 'Service', 'Telecomm']\n",
    "    room_df = room_df[room_df['Room Use (S)'].str.contains('|'.join(searchfor), regex=True) == False]\n",
    "    return room_df"
   ]
  },
  {
   "cell_type": "markdown",
   "metadata": {},
   "source": [
    "![](images/ashrae2.png)"
   ]
  },
  {
   "cell_type": "markdown",
   "metadata": {},
   "source": [
    "![](images/ashrae3.png)"
   ]
  },
  {
   "cell_type": "markdown",
   "metadata": {},
   "source": [
    "![](images/ashrae.png)"
   ]
  },
  {
   "cell_type": "code",
   "execution_count": 5,
   "metadata": {},
   "outputs": [],
   "source": [
    "room_df = extract_buildingData('building_area/APMRooms.csv', 'Applied Physics and Mathematics')"
   ]
  },
  {
   "cell_type": "code",
   "execution_count": 6,
   "metadata": {},
   "outputs": [
    {
     "data": {
      "text/html": [
       "<div>\n",
       "<style scoped>\n",
       "    .dataframe tbody tr th:only-of-type {\n",
       "        vertical-align: middle;\n",
       "    }\n",
       "\n",
       "    .dataframe tbody tr th {\n",
       "        vertical-align: top;\n",
       "    }\n",
       "\n",
       "    .dataframe thead th {\n",
       "        text-align: right;\n",
       "    }\n",
       "</style>\n",
       "<table border=\"1\" class=\"dataframe\">\n",
       "  <thead>\n",
       "    <tr style=\"text-align: right;\">\n",
       "      <th></th>\n",
       "      <th>Building</th>\n",
       "      <th>Room</th>\n",
       "      <th>Area</th>\n",
       "      <th>Room Use (S)</th>\n",
       "      <th>Stations</th>\n",
       "    </tr>\n",
       "  </thead>\n",
       "  <tbody>\n",
       "    <tr>\n",
       "      <th>38</th>\n",
       "      <td>Applied Physics and Mathematics</td>\n",
       "      <td>B301</td>\n",
       "      <td>172</td>\n",
       "      <td>560 - Media Production (S)</td>\n",
       "      <td>1.0</td>\n",
       "    </tr>\n",
       "    <tr>\n",
       "      <th>39</th>\n",
       "      <td>Applied Physics and Mathematics</td>\n",
       "      <td>B301A</td>\n",
       "      <td>335</td>\n",
       "      <td>560 - Media Production (S)</td>\n",
       "      <td>0.0</td>\n",
       "    </tr>\n",
       "    <tr>\n",
       "      <th>40</th>\n",
       "      <td>Applied Physics and Mathematics</td>\n",
       "      <td>B301B</td>\n",
       "      <td>194</td>\n",
       "      <td>560 - Media Production (S)</td>\n",
       "      <td>0.0</td>\n",
       "    </tr>\n",
       "    <tr>\n",
       "      <th>41</th>\n",
       "      <td>Applied Physics and Mathematics</td>\n",
       "      <td>B302</td>\n",
       "      <td>335</td>\n",
       "      <td>560 - Media Production (S)</td>\n",
       "      <td>1.0</td>\n",
       "    </tr>\n",
       "    <tr>\n",
       "      <th>42</th>\n",
       "      <td>Applied Physics and Mathematics</td>\n",
       "      <td>B302A</td>\n",
       "      <td>44</td>\n",
       "      <td>560 - Media Production (S)</td>\n",
       "      <td>0.0</td>\n",
       "    </tr>\n",
       "  </tbody>\n",
       "</table>\n",
       "</div>"
      ],
      "text/plain": [
       "                           Building   Room  Area                Room Use (S)  \\\n",
       "38  Applied Physics and Mathematics   B301   172  560 - Media Production (S)   \n",
       "39  Applied Physics and Mathematics  B301A   335  560 - Media Production (S)   \n",
       "40  Applied Physics and Mathematics  B301B   194  560 - Media Production (S)   \n",
       "41  Applied Physics and Mathematics   B302   335  560 - Media Production (S)   \n",
       "42  Applied Physics and Mathematics  B302A    44  560 - Media Production (S)   \n",
       "\n",
       "    Stations  \n",
       "38       1.0  \n",
       "39       0.0  \n",
       "40       0.0  \n",
       "41       1.0  \n",
       "42       0.0  "
      ]
     },
     "execution_count": 6,
     "metadata": {},
     "output_type": "execute_result"
    }
   ],
   "source": [
    "room_df.head()"
   ]
  },
  {
   "cell_type": "code",
   "execution_count": 7,
   "metadata": {},
   "outputs": [],
   "source": [
    "def impute_buildingData( ):\n",
    "    \n",
    "    occupancyImputed_TF = []\n",
    "    CFMs = []\n",
    "    for index, row in room_df.iterrows():\n",
    "        room_CFM = compute_CFM(row)\n",
    "        try:\n",
    "            room_CFM\n",
    "        except NameError:\n",
    "            print('Error in row ' + str(index))\n",
    "            print(Rp)\n",
    "            print(Pz)\n",
    "            print(Ra)\n",
    "            print(Az)\n",
    "        else:\n",
    "            CFMs.append(room_CFM)\n",
    "            occupancyImputed_TF.append(occupancyImputed)\n",
    "            \n",
    "    return room_df.assign(CFM = CFMs, occupancyImputed_TF = occupancyImputed_TF)"
   ]
  },
  {
   "cell_type": "code",
   "execution_count": null,
   "metadata": {},
   "outputs": [],
   "source": [
    "def compute_CFM(row):\n",
    "    r_use = row['Room Use (S)']\n",
    "    room_area = row['Area']\n",
    "    Pz = row['Stations']\n",
    "    occupancyImputed = False\n",
    "     #If Lecture Classroom or Lecture Hall\n",
    "        if r_use in ['110 - Classroom (S)', \n",
    "                     '270 - Open Laboratory (N)',\n",
    "                     '270 - Open Lab - Restricted (N)',\n",
    "                     '340 - Conference Room (S)']:\n",
    "            #if large enough classify as lecture hall\n",
    "            if Az > 500:\n",
    "                CFM, occupancyImputed = reqCFM_calculator('lectureHall', Pz, Az)\n",
    "           #else lecture classroom\n",
    "            else:\n",
    "                CFM, occupancyImputed = reqCFM_calculator('lectureClassroom', Pz, Az) \n",
    "        #If Office space\n",
    "        elif r_use in ['211 - Research Office - Enclosed (S)',\n",
    "                     '335 - Office Service (S)',\n",
    "                     '320 - Administrative Office - Enclosed (S)', \n",
    "                     '211 - Research Office - Open (S)',\n",
    "                     '310 - Academic Office - Enclosed (S)',\n",
    "                     '226 - Research Office Service (S)',\n",
    "                     '320 - Administrative Office - Open (S)',\n",
    "                     '340 - Conference Room (S)',\n",
    "                     '250 - Scholarly Activity (S)']:\n",
    "            CFM, occupancyImputed = reqCFM_calculator('officeSpace', Pz, Az) \n",
    "        #if Research Lab\n",
    "        elif r_use in ['225 - Research Lab / Studio Service (S)',\n",
    "                     '210 - Research Laboratory / Studio (S)',\n",
    "                      '260 - Class Laboratory (S)']:\n",
    "            CFM, occupancyImputed = reqCFM_calculator('collegeLaboratories', Pz, Az) \n",
    "       #if media room \n",
    "        elif r_use in ['560 - Media Production (S)']:\n",
    "            CFM, occupancyImputed = reqCFM_calculator('mediaCenter', Pz, Az) \n",
    "        #if Shop\n",
    "        elif r_use in ['710 - Shop - General and Research (S)']:\n",
    "            CFM, occupancyImputed = reqCFM_calculator('woodMetalShop', Pz, Az)\n",
    "        else:\n",
    "            print('New Classification Required:')\n",
    "            print(r_use)\n",
    "            print(row['Room'])\n",
    "        #Calculate CFM to impute\n",
    "        return CFM, occupancyImputed"
   ]
  },
  {
   "cell_type": "code",
   "execution_count": 17,
   "metadata": {},
   "outputs": [],
   "source": [
    "def reqCFM_calculator(rclass, Pz, Az ,var = var):\n",
    "    \"\"\"\"\n",
    "    Returns the minimum required airflow in cubic feet per minute (CFM) based on room class,\n",
    "    occupancy and area, Given ANSI/ASHRAE Standards\n",
    "    url: https://www.ashrae.org/File%20Library/Technical%20Resources/Standards%20and%20Guidelines/Standards%20Addenda/62.1-2016/62_1_2016_s_20190726.pdf\n",
    "    Formula: Ventilation = Rp * Pz + Ra * Az\n",
    "    Az == Floor area in sq ft\n",
    "    Pz == Zone occupancy or zone population \n",
    "    Rp == Outdoor Airflow rate in cfm / person \n",
    "    Ra == Outdoor Airflow rate in cfm /sq ft  \n",
    "    Od == Occupant Density. occ/1000 sq ft\"\"\"\n",
    "    af_standards = var['ASHRAE_table']\n",
    "    occupancyImputed = False\n",
    "    if Pz == 0:\n",
    "        Pz = Az / Od_CONVERSION * af_standards[rclass]['Od']\n",
    "        occupancyImputed = True\n",
    "    Rp = af_standards[rclass]['Rp']\n",
    "    Ra = af_standards[rclass]['Ra']\n",
    "    #\n",
    "    CFM = Rp * Pz + Ra * Az\n",
    "    return CFM, occupancyImputed"
   ]
  },
  {
   "cell_type": "code",
   "execution_count": 12,
   "metadata": {},
   "outputs": [
    {
     "ename": "NameError",
     "evalue": "name 'compute_CFM' is not defined",
     "output_type": "error",
     "traceback": [
      "\u001b[0;31m---------------------------------------------------------------------------\u001b[0m",
      "\u001b[0;31mNameError\u001b[0m                                 Traceback (most recent call last)",
      "\u001b[0;32m<ipython-input-12-9b61dc89354a>\u001b[0m in \u001b[0;36m<module>\u001b[0;34m\u001b[0m\n\u001b[0;32m----> 1\u001b[0;31m \u001b[0mimputed\u001b[0m \u001b[0;34m=\u001b[0m \u001b[0mimpute_buildingData\u001b[0m\u001b[0;34m(\u001b[0m\u001b[0mroom_df\u001b[0m\u001b[0;34m)\u001b[0m\u001b[0;34m\u001b[0m\u001b[0m\n\u001b[0m\u001b[1;32m      2\u001b[0m \u001b[0mimputed\u001b[0m\u001b[0;34m.\u001b[0m\u001b[0mhead\u001b[0m\u001b[0;34m(\u001b[0m\u001b[0;34m)\u001b[0m\u001b[0;34m\u001b[0m\u001b[0m\n",
      "\u001b[0;32m<ipython-input-7-23a2883d5eb6>\u001b[0m in \u001b[0;36mimpute_buildingData\u001b[0;34m(room_df)\u001b[0m\n\u001b[1;32m      8\u001b[0m         \u001b[0mPz\u001b[0m \u001b[0;34m=\u001b[0m \u001b[0mrow\u001b[0m\u001b[0;34m[\u001b[0m\u001b[0;34m'Stations'\u001b[0m\u001b[0;34m]\u001b[0m\u001b[0;34m\u001b[0m\u001b[0m\n\u001b[1;32m      9\u001b[0m         \u001b[0moccupancyImputed\u001b[0m \u001b[0;34m=\u001b[0m \u001b[0;32mFalse\u001b[0m\u001b[0;34m\u001b[0m\u001b[0m\n\u001b[0;32m---> 10\u001b[0;31m         \u001b[0mroom_CFM\u001b[0m \u001b[0;34m=\u001b[0m \u001b[0mcompute_CFM\u001b[0m\u001b[0;34m(\u001b[0m\u001b[0mr_use\u001b[0m\u001b[0;34m,\u001b[0m \u001b[0;34m)\u001b[0m\u001b[0;34m\u001b[0m\u001b[0m\n\u001b[0m\u001b[1;32m     11\u001b[0m         \u001b[0;32mtry\u001b[0m\u001b[0;34m:\u001b[0m\u001b[0;34m\u001b[0m\u001b[0m\n\u001b[1;32m     12\u001b[0m             \u001b[0mroom_CFM\u001b[0m\u001b[0;34m\u001b[0m\u001b[0m\n",
      "\u001b[0;31mNameError\u001b[0m: name 'compute_CFM' is not defined"
     ]
    }
   ],
   "source": [
    "imputed = impute_buildingData(room_df)\n",
    "imputed.head()"
   ]
  },
  {
   "cell_type": "code",
   "execution_count": 13,
   "metadata": {},
   "outputs": [],
   "source": [
    "CFM_calculator?"
   ]
  },
  {
   "cell_type": "code",
   "execution_count": null,
   "metadata": {},
   "outputs": [],
   "source": []
  }
 ],
 "metadata": {
  "kernelspec": {
   "display_name": "Python 3",
   "language": "python",
   "name": "python3"
  },
  "language_info": {
   "codemirror_mode": {
    "name": "ipython",
    "version": 3
   },
   "file_extension": ".py",
   "mimetype": "text/x-python",
   "name": "python",
   "nbconvert_exporter": "python",
   "pygments_lexer": "ipython3",
   "version": "3.6.2"
  }
 },
 "nbformat": 4,
 "nbformat_minor": 4
}
