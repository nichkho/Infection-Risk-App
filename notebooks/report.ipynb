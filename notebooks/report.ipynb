{
 "cells": [
  {
   "cell_type": "markdown",
   "metadata": {},
   "source": [
    "<h1><center>Airborne Infection Risk Calculator for Indoor Environments\n",
    "</center></h1>\n",
    "\n",
    "<center>By Etienne Doidic, Zhexu Li, and Nicholas Kho <center>"
   ]
  },
  {
   "cell_type": "markdown",
   "metadata": {},
   "source": [
    "The global pandemic of COVID-19 has demonstrated the exceptional transmissibility of the SARS-CoV-2 virus and has highlighted the vulnerability of the built environment to airborne pathogens. For the past 40 years, Heat, Ventilation, and Air Conditioning (HVAC) systems in buildings have been optimized to recirculate conditioned air to save energy while maintaining a stable temperature [[Perez-Lombard et al. 2011]](https://doi.org/10.1016/j.enbuild.2010.10.025). However, HVAC systems operators must now consider the dangers of air recirculation and aim to prevent the buildup of airborne particles or pathogens throughout buildings in order to ensure the health of occupants and the greater public. As buildings today reopen without a vaccine it is important to understand the risk of airborne infection based on building and occupant features, for not only the current pandemic, but for future ones as well. One method that has been developed to address this problem is the infection risk calculator. These calculators allow users to input variables such as the number of occupants,  room dimensions, air change per hour (ACH), masks/no masks, etc., in order to determine the risk of infected person(s) transmitting a virus to susceptible people the room [Lelieveld et al. 2020](https://doi.org/10.3390/ijerph17218114).\n",
    "\n",
    "While these calculators may be convenient in some cases, they are “black box” algorithms, meaning the underlying code is not accessible or transparent to users. With a large amount of skepticism surrounding the academic literature regarding this virus and its transmission [[Scheirer 2020]](https://doi.org/10.1080/00963402.2020.1778361), we believe it is important infection risk calculators are as transparent as possible. \n",
    "\n",
    "In this notebook we describe our methods for developing our own infection risk algorithm for the SARS-CoV-2 virus which accepts room data, and a set of parameters regarding occupants and infection rates of the surrounding community. Code and assumptions made in the algorithm will be clearly explained to users for transparency. "
   ]
  },
  {
   "cell_type": "code",
   "execution_count": 1,
   "metadata": {},
   "outputs": [],
   "source": [
    "#Imports\n",
    "import matplotlib.pyplot as plt\n",
    "import numpy as np\n",
    "import sys\n",
    "import os\n",
    "sys_path = os.path.dirname(os.getcwd())\n",
    "src_path = sys_path + \"/src\"\n",
    "\n",
    "sys.path.insert(1, src_path)\n",
    "from calculator import *\n",
    "assumptions = var\n",
    "src_path = sys_path + \"/notebook\"\n",
    "\n",
    "sys.path.insert(1, src_path)\n"
   ]
  },
  {
   "cell_type": "markdown",
   "metadata": {},
   "source": [
    "Here is where users can test out different parameters in order to get different results.\n",
    "It has been a challenge thus far to aquire accurate building data so we are limited to the manually inputted dataset located in notebooks/data/room_data.csv' but hopefully this gives an idea about what kind of building data are accepted by this calculator.\n",
    "\n",
    "In the future we hope to integrate this calculator with more automated systems of data retrieval such as real-time infection rates using web-mining, and querying building data directly from building systems using Brick and Metasys, for example.\n",
    "\n",
    "The default example calculates the infection risk of a classroom of students in Center Hall 101, a building at UC San Diego.\n",
    "This cell contains the only parameters that should be changed."
   ]
  },
  {
   "cell_type": "code",
   "execution_count": 2,
   "metadata": {},
   "outputs": [],
   "source": [
    "#--------User Parameters----------------\n",
    "#Number of occupants\n",
    "#Room ID\n",
    "room_id = 'CENTER 101'\n",
    "#50 occupants is the reduced COVID-19 capacity.\n",
    "n_occupants = 50 \n",
    "#Duration in room in hours\n",
    "t = 1.25\n",
    "#Activity\n",
    "#For our experiment we will assume the occupants are resting (sitting)\n",
    "activities = ['resting', 'light_exercise', 'moderate_exercise', 'heavy_exercise']\n",
    "activity = activities[0]\n",
    "    \n",
    "#Vocal Activity \n",
    "#For our experiment we will assume the occupants are speaking.\n",
    "expiratory_activities = ['speaking', 'whispering', 'singing', 'breathing']\n",
    "expiratory_activity = expiratory_activities[0]"
   ]
  },
  {
   "cell_type": "markdown",
   "metadata": {},
   "source": [
    "Read in data regarding our subject room on the UC San Diego campus."
   ]
  },
  {
   "cell_type": "code",
   "execution_count": 4,
   "metadata": {},
   "outputs": [
    {
     "data": {
      "text/plain": [
       "'C:\\\\Users\\\\Etienne\\\\Desktop\\\\Infection-Risk-App'"
      ]
     },
     "execution_count": 4,
     "metadata": {},
     "output_type": "execute_result"
    }
   ],
   "source": [
    "sys_path"
   ]
  },
  {
   "cell_type": "code",
   "execution_count": 3,
   "metadata": {},
   "outputs": [
    {
     "ename": "FileNotFoundError",
     "evalue": "[Errno 2] No such file or directory: 'C:\\\\Users\\\\Etienne\\\\Desktop\\\\Infection-Risk-App/data/raw/rm.csv'",
     "output_type": "error",
     "traceback": [
      "\u001b[1;31m---------------------------------------------------------------------------\u001b[0m",
      "\u001b[1;31mFileNotFoundError\u001b[0m                         Traceback (most recent call last)",
      "\u001b[1;32m<ipython-input-3-d022d0a02c85>\u001b[0m in \u001b[0;36m<module>\u001b[1;34m\u001b[0m\n\u001b[1;32m----> 1\u001b[1;33m \u001b[0mroom_dic\u001b[0m \u001b[1;33m=\u001b[0m \u001b[0mget_room_data\u001b[0m\u001b[1;33m(\u001b[0m\u001b[0msys_path\u001b[0m \u001b[1;33m+\u001b[0m \u001b[1;34m'/data/raw/rm.csv'\u001b[0m\u001b[1;33m,\u001b[0m \u001b[0mroom_id\u001b[0m\u001b[1;33m)\u001b[0m\u001b[1;33m\u001b[0m\u001b[1;33m\u001b[0m\u001b[0m\n\u001b[0m\u001b[0;32m      2\u001b[0m \u001b[0mroom_dic\u001b[0m\u001b[1;33m\u001b[0m\u001b[1;33m\u001b[0m\u001b[0m\n",
      "\u001b[1;32m~\\Desktop\\Infection-Risk-App/src\\calculator.py\u001b[0m in \u001b[0;36mget_room_data\u001b[1;34m(filepath, room_id)\u001b[0m\n\u001b[0;32m     75\u001b[0m \u001b[1;32mdef\u001b[0m \u001b[0mget_room_data\u001b[0m\u001b[1;33m(\u001b[0m\u001b[0mfilepath\u001b[0m\u001b[1;33m,\u001b[0m \u001b[0mroom_id\u001b[0m\u001b[1;33m)\u001b[0m\u001b[1;33m:\u001b[0m\u001b[1;33m\u001b[0m\u001b[1;33m\u001b[0m\u001b[0m\n\u001b[0;32m     76\u001b[0m     \u001b[0mCUBIC_FT_TO_METERS\u001b[0m \u001b[1;33m=\u001b[0m \u001b[1;36m0.0283168\u001b[0m\u001b[1;33m\u001b[0m\u001b[1;33m\u001b[0m\u001b[0m\n\u001b[1;32m---> 77\u001b[1;33m     \u001b[0mroom_table\u001b[0m \u001b[1;33m=\u001b[0m \u001b[0mpd\u001b[0m\u001b[1;33m.\u001b[0m\u001b[0mread_csv\u001b[0m\u001b[1;33m(\u001b[0m\u001b[0mfilepath\u001b[0m\u001b[1;33m)\u001b[0m\u001b[1;33m\u001b[0m\u001b[1;33m\u001b[0m\u001b[0m\n\u001b[0m\u001b[0;32m     78\u001b[0m     \u001b[0mroom_dic\u001b[0m \u001b[1;33m=\u001b[0m \u001b[1;33m{\u001b[0m\u001b[1;33m}\u001b[0m\u001b[1;33m\u001b[0m\u001b[1;33m\u001b[0m\u001b[0m\n\u001b[0;32m     79\u001b[0m     \u001b[1;32mif\u001b[0m \u001b[0mlen\u001b[0m\u001b[1;33m(\u001b[0m\u001b[0mroom_table\u001b[0m\u001b[1;33m.\u001b[0m\u001b[0mloc\u001b[0m\u001b[1;33m[\u001b[0m\u001b[0mroom_table\u001b[0m\u001b[1;33m[\u001b[0m\u001b[1;34m'Room'\u001b[0m\u001b[1;33m]\u001b[0m \u001b[1;33m==\u001b[0m \u001b[0mroom_id\u001b[0m\u001b[1;33m]\u001b[0m\u001b[1;33m)\u001b[0m \u001b[1;33m==\u001b[0m \u001b[1;36m0\u001b[0m\u001b[1;33m:\u001b[0m\u001b[1;33m\u001b[0m\u001b[1;33m\u001b[0m\u001b[0m\n",
      "\u001b[1;32mC:\\ProgramData\\Anaconda3\\lib\\site-packages\\pandas\\io\\parsers.py\u001b[0m in \u001b[0;36mread_csv\u001b[1;34m(filepath_or_buffer, sep, delimiter, header, names, index_col, usecols, squeeze, prefix, mangle_dupe_cols, dtype, engine, converters, true_values, false_values, skipinitialspace, skiprows, skipfooter, nrows, na_values, keep_default_na, na_filter, verbose, skip_blank_lines, parse_dates, infer_datetime_format, keep_date_col, date_parser, dayfirst, cache_dates, iterator, chunksize, compression, thousands, decimal, lineterminator, quotechar, quoting, doublequote, escapechar, comment, encoding, dialect, error_bad_lines, warn_bad_lines, delim_whitespace, low_memory, memory_map, float_precision)\u001b[0m\n\u001b[0;32m    684\u001b[0m     )\n\u001b[0;32m    685\u001b[0m \u001b[1;33m\u001b[0m\u001b[0m\n\u001b[1;32m--> 686\u001b[1;33m     \u001b[1;32mreturn\u001b[0m \u001b[0m_read\u001b[0m\u001b[1;33m(\u001b[0m\u001b[0mfilepath_or_buffer\u001b[0m\u001b[1;33m,\u001b[0m \u001b[0mkwds\u001b[0m\u001b[1;33m)\u001b[0m\u001b[1;33m\u001b[0m\u001b[1;33m\u001b[0m\u001b[0m\n\u001b[0m\u001b[0;32m    687\u001b[0m \u001b[1;33m\u001b[0m\u001b[0m\n\u001b[0;32m    688\u001b[0m \u001b[1;33m\u001b[0m\u001b[0m\n",
      "\u001b[1;32mC:\\ProgramData\\Anaconda3\\lib\\site-packages\\pandas\\io\\parsers.py\u001b[0m in \u001b[0;36m_read\u001b[1;34m(filepath_or_buffer, kwds)\u001b[0m\n\u001b[0;32m    450\u001b[0m \u001b[1;33m\u001b[0m\u001b[0m\n\u001b[0;32m    451\u001b[0m     \u001b[1;31m# Create the parser.\u001b[0m\u001b[1;33m\u001b[0m\u001b[1;33m\u001b[0m\u001b[1;33m\u001b[0m\u001b[0m\n\u001b[1;32m--> 452\u001b[1;33m     \u001b[0mparser\u001b[0m \u001b[1;33m=\u001b[0m \u001b[0mTextFileReader\u001b[0m\u001b[1;33m(\u001b[0m\u001b[0mfp_or_buf\u001b[0m\u001b[1;33m,\u001b[0m \u001b[1;33m**\u001b[0m\u001b[0mkwds\u001b[0m\u001b[1;33m)\u001b[0m\u001b[1;33m\u001b[0m\u001b[1;33m\u001b[0m\u001b[0m\n\u001b[0m\u001b[0;32m    453\u001b[0m \u001b[1;33m\u001b[0m\u001b[0m\n\u001b[0;32m    454\u001b[0m     \u001b[1;32mif\u001b[0m \u001b[0mchunksize\u001b[0m \u001b[1;32mor\u001b[0m \u001b[0miterator\u001b[0m\u001b[1;33m:\u001b[0m\u001b[1;33m\u001b[0m\u001b[1;33m\u001b[0m\u001b[0m\n",
      "\u001b[1;32mC:\\ProgramData\\Anaconda3\\lib\\site-packages\\pandas\\io\\parsers.py\u001b[0m in \u001b[0;36m__init__\u001b[1;34m(self, f, engine, **kwds)\u001b[0m\n\u001b[0;32m    944\u001b[0m             \u001b[0mself\u001b[0m\u001b[1;33m.\u001b[0m\u001b[0moptions\u001b[0m\u001b[1;33m[\u001b[0m\u001b[1;34m\"has_index_names\"\u001b[0m\u001b[1;33m]\u001b[0m \u001b[1;33m=\u001b[0m \u001b[0mkwds\u001b[0m\u001b[1;33m[\u001b[0m\u001b[1;34m\"has_index_names\"\u001b[0m\u001b[1;33m]\u001b[0m\u001b[1;33m\u001b[0m\u001b[1;33m\u001b[0m\u001b[0m\n\u001b[0;32m    945\u001b[0m \u001b[1;33m\u001b[0m\u001b[0m\n\u001b[1;32m--> 946\u001b[1;33m         \u001b[0mself\u001b[0m\u001b[1;33m.\u001b[0m\u001b[0m_make_engine\u001b[0m\u001b[1;33m(\u001b[0m\u001b[0mself\u001b[0m\u001b[1;33m.\u001b[0m\u001b[0mengine\u001b[0m\u001b[1;33m)\u001b[0m\u001b[1;33m\u001b[0m\u001b[1;33m\u001b[0m\u001b[0m\n\u001b[0m\u001b[0;32m    947\u001b[0m \u001b[1;33m\u001b[0m\u001b[0m\n\u001b[0;32m    948\u001b[0m     \u001b[1;32mdef\u001b[0m \u001b[0mclose\u001b[0m\u001b[1;33m(\u001b[0m\u001b[0mself\u001b[0m\u001b[1;33m)\u001b[0m\u001b[1;33m:\u001b[0m\u001b[1;33m\u001b[0m\u001b[1;33m\u001b[0m\u001b[0m\n",
      "\u001b[1;32mC:\\ProgramData\\Anaconda3\\lib\\site-packages\\pandas\\io\\parsers.py\u001b[0m in \u001b[0;36m_make_engine\u001b[1;34m(self, engine)\u001b[0m\n\u001b[0;32m   1176\u001b[0m     \u001b[1;32mdef\u001b[0m \u001b[0m_make_engine\u001b[0m\u001b[1;33m(\u001b[0m\u001b[0mself\u001b[0m\u001b[1;33m,\u001b[0m \u001b[0mengine\u001b[0m\u001b[1;33m=\u001b[0m\u001b[1;34m\"c\"\u001b[0m\u001b[1;33m)\u001b[0m\u001b[1;33m:\u001b[0m\u001b[1;33m\u001b[0m\u001b[1;33m\u001b[0m\u001b[0m\n\u001b[0;32m   1177\u001b[0m         \u001b[1;32mif\u001b[0m \u001b[0mengine\u001b[0m \u001b[1;33m==\u001b[0m \u001b[1;34m\"c\"\u001b[0m\u001b[1;33m:\u001b[0m\u001b[1;33m\u001b[0m\u001b[1;33m\u001b[0m\u001b[0m\n\u001b[1;32m-> 1178\u001b[1;33m             \u001b[0mself\u001b[0m\u001b[1;33m.\u001b[0m\u001b[0m_engine\u001b[0m \u001b[1;33m=\u001b[0m \u001b[0mCParserWrapper\u001b[0m\u001b[1;33m(\u001b[0m\u001b[0mself\u001b[0m\u001b[1;33m.\u001b[0m\u001b[0mf\u001b[0m\u001b[1;33m,\u001b[0m \u001b[1;33m**\u001b[0m\u001b[0mself\u001b[0m\u001b[1;33m.\u001b[0m\u001b[0moptions\u001b[0m\u001b[1;33m)\u001b[0m\u001b[1;33m\u001b[0m\u001b[1;33m\u001b[0m\u001b[0m\n\u001b[0m\u001b[0;32m   1179\u001b[0m         \u001b[1;32melse\u001b[0m\u001b[1;33m:\u001b[0m\u001b[1;33m\u001b[0m\u001b[1;33m\u001b[0m\u001b[0m\n\u001b[0;32m   1180\u001b[0m             \u001b[1;32mif\u001b[0m \u001b[0mengine\u001b[0m \u001b[1;33m==\u001b[0m \u001b[1;34m\"python\"\u001b[0m\u001b[1;33m:\u001b[0m\u001b[1;33m\u001b[0m\u001b[1;33m\u001b[0m\u001b[0m\n",
      "\u001b[1;32mC:\\ProgramData\\Anaconda3\\lib\\site-packages\\pandas\\io\\parsers.py\u001b[0m in \u001b[0;36m__init__\u001b[1;34m(self, src, **kwds)\u001b[0m\n\u001b[0;32m   2006\u001b[0m         \u001b[0mkwds\u001b[0m\u001b[1;33m[\u001b[0m\u001b[1;34m\"usecols\"\u001b[0m\u001b[1;33m]\u001b[0m \u001b[1;33m=\u001b[0m \u001b[0mself\u001b[0m\u001b[1;33m.\u001b[0m\u001b[0musecols\u001b[0m\u001b[1;33m\u001b[0m\u001b[1;33m\u001b[0m\u001b[0m\n\u001b[0;32m   2007\u001b[0m \u001b[1;33m\u001b[0m\u001b[0m\n\u001b[1;32m-> 2008\u001b[1;33m         \u001b[0mself\u001b[0m\u001b[1;33m.\u001b[0m\u001b[0m_reader\u001b[0m \u001b[1;33m=\u001b[0m \u001b[0mparsers\u001b[0m\u001b[1;33m.\u001b[0m\u001b[0mTextReader\u001b[0m\u001b[1;33m(\u001b[0m\u001b[0msrc\u001b[0m\u001b[1;33m,\u001b[0m \u001b[1;33m**\u001b[0m\u001b[0mkwds\u001b[0m\u001b[1;33m)\u001b[0m\u001b[1;33m\u001b[0m\u001b[1;33m\u001b[0m\u001b[0m\n\u001b[0m\u001b[0;32m   2009\u001b[0m         \u001b[0mself\u001b[0m\u001b[1;33m.\u001b[0m\u001b[0munnamed_cols\u001b[0m \u001b[1;33m=\u001b[0m \u001b[0mself\u001b[0m\u001b[1;33m.\u001b[0m\u001b[0m_reader\u001b[0m\u001b[1;33m.\u001b[0m\u001b[0munnamed_cols\u001b[0m\u001b[1;33m\u001b[0m\u001b[1;33m\u001b[0m\u001b[0m\n\u001b[0;32m   2010\u001b[0m \u001b[1;33m\u001b[0m\u001b[0m\n",
      "\u001b[1;32mpandas\\_libs\\parsers.pyx\u001b[0m in \u001b[0;36mpandas._libs.parsers.TextReader.__cinit__\u001b[1;34m()\u001b[0m\n",
      "\u001b[1;32mpandas\\_libs\\parsers.pyx\u001b[0m in \u001b[0;36mpandas._libs.parsers.TextReader._setup_parser_source\u001b[1;34m()\u001b[0m\n",
      "\u001b[1;31mFileNotFoundError\u001b[0m: [Errno 2] No such file or directory: 'C:\\\\Users\\\\Etienne\\\\Desktop\\\\Infection-Risk-App/data/raw/rm.csv'"
     ]
    }
   ],
   "source": [
    "room_dic = get_room_data(sys_path + '/data/raw/rm.csv', room_id)\n",
    "room_dic"
   ]
  },
  {
   "cell_type": "markdown",
   "metadata": {},
   "source": [
    "To calculate the risk of infection in a given room, the emmission rate of quanta is needed. A quantum is defined as the viral load i.e. the dose of contaminated airborne droplet nuclei required to cause infection in 63% of persons. \n",
    "The emmission rate of quanta is caclulated with the following formula:\n",
    "![title](images/formula1.1.png)\n",
    "\n",
    "[Morawska et al. 2020](https://doi.org/10.1016/j.envint.2020.105794)"
   ]
  },
  {
   "cell_type": "markdown",
   "metadata": {},
   "source": [
    "<b>cv</b> corresponds to the <b>viral load in the sputum</b> (i.e. infectious mucus) of the infected person, expressed in <b>RNA copies per mililiter</b>. The viral load in sputum of an infected person varies and is dependent on the stage of infection [[Yu et al. 2020]](https://doi.org/10.1186/s13054-020-02893-8).\n",
    "A range of 1e5 - 1e9 RNA copies per mililiter for viral load in the sputum is determined but for this experiment we will choose the maximum viral load to simulate the worst case scenario for infection spread [[Walsh et al. 2020]](https://doi.org/10.1016/j.jinf.2020.06.067).\n",
    "\n",
    "<b>ci</b> is a conversion factor defined as the ratio between one infectious quantum and the infectious dose expressed in viral RNA copies, expressed in <b>quanta per RNA copies</b>. A survey of ci's indicates a range of .01 to .1 but finally a ci of .02 was selected to reflect the average value of the infectious doses reported in [Watanabe et al. 2010](https://onlinelibrary.wiley.com/doi/full/10.1111/j.1539-6924.2010.01427.x). The study covers SARS-CoV (not to be confused with SARS-CoV-2, the virus that causes COVID-19) but was selected because it provides a more well-studied report of the infectivity of coronaviruses, which has not possible for SARS-CoV-2 due to its very recent development.\n",
    "\n",
    "<b>Inhalation Rate (IR)</b> is the product of breathing rate and tidal volume, expressed in <b>cubic meters per hour</b>. IR is dependent on the activity of the infected subject. The following values were chosen from [Adams 1993](https://ww2.arb.ca.gov/sites/default/files/classic//research/apr/past/a033-205.pdf)\n"
   ]
  },
  {
   "cell_type": "code",
   "execution_count": null,
   "metadata": {},
   "outputs": [],
   "source": [
    "pd.Series(assumptions['IR'])"
   ]
  },
  {
   "cell_type": "markdown",
   "metadata": {},
   "source": [
    "<b>Ni</b> is the droplet concentrations by diameter in <b>particles per cubic centimeter</b>. The droplet concentrations are dependent on the expiratory activity of the infected person. Droplet concentrations by diameter were taken from [Morawska et al. 2009](https://doi.org/10.1016/j.jaerosci.2008.11.002). \"Speaking\" was considered to be the average of \"singing\" and \"counting.\" "
   ]
  },
  {
   "cell_type": "code",
   "execution_count": null,
   "metadata": {},
   "outputs": [],
   "source": [
    "pd.DataFrame(assumptions['droplet_conc'])"
   ]
  },
  {
   "cell_type": "markdown",
   "metadata": {},
   "source": [
    "<b>Vi</b> simply represents the volume of the sphere created by the droplets with the specified diameter in <b>cubic micrometers</b>\n",
    "\n",
    "Finally, <b>j</b> refers to expiratory activity the infected person is engaged in, e.g. singing."
   ]
  },
  {
   "cell_type": "code",
   "execution_count": null,
   "metadata": {},
   "outputs": [],
   "source": [
    "#Calculate emission rates\n",
    "ERq1 = get_quanta_emmission_rate('heavy_exercise', 'singing',assumptions)\n",
    "ERq2 = get_quanta_emmission_rate('resting', 'whispering', assumptions)\n",
    "print('Emission rate in quanta per hour for an infected sprinting singer: ' + str(ERq1))\n",
    "print('                                 for an infected cheating student: ' + str(ERq2))"
   ]
  },
  {
   "cell_type": "markdown",
   "metadata": {},
   "source": [
    "Next we must calculate the quanta concentration as a function of time using the following equation:\n",
    "![title](images/formula1.png)\n",
    "[Gammaitoni, Nucci 1997](https://www.ncbi.nlm.nih.gov/pmc/articles/PMC2627642/)"
   ]
  },
  {
   "cell_type": "markdown",
   "metadata": {},
   "source": [
    "where <b>IVRR (hr−1)</b> represents the infectious virus removal rate in the space investigated. The infectious virus removal rate (IVRR) is the sum of three parameters [(Yang and Marr, 2011)](https://doi.org/10.1371/journal.pone.0021481): the air change per hour (<b>ACH</b>) via ventilation, the <b>particle deposition</b> on surfaces via gravitational settling, and the <b>viral inactivation rate</b> (i.e. how long the virus remains contagious in aerosol).\n",
    "\n",
    "<b>n0</b> represents the initial number of quanta in the space\n",
    "\n",
    "<b>I</b> is the number of infectious subjects, V is the volume of the indoor environment considered,\n",
    "\n",
    "and <b>ERq</b> is the abovementioned quanta emission rate (quanta h−1)\n",
    "\n",
    "This model was selected because it has been used in previous papers to estimate infection risk of other airborne diseases in indoor environments. For example [Wagner et al. 2009](https://bmcmedicine.biomedcentral.com/articles/10.1186/1741-7015-7-81)\n",
    "\n",
    "The <b>viral inactivation rate</b> of SARS-CoV2 was determined to be .63 by [Doremalen et al. 2020](https://doi.org/10.1056/nejmc2004973).\n",
    "\n",
    "<b>Deposition rate</b> is determined by the ratio of the settling velocity of the micrometric particles (1e-4 m/s) and \n",
    "assuming the height of the emmission source. Given the average height of a person is 1.5 m, the deposition_rate is assumed to be .24 per hour [(Chatoutsidou and Lazaridis, 2019)](https://doi.org/10.1016/j.culher.2019.02.017)\n",
    "\n",
    "<b>ACH</b> is dependent on room conditions. Is a window open? Is the air conditioning pushing in new air? In order to determine the ACH we use the flow rate of the VAV inside of the room. VAV flow rates were determined using VAV spec sheets."
   ]
  },
  {
   "cell_type": "code",
   "execution_count": null,
   "metadata": {},
   "outputs": [],
   "source": [
    "ach = get_air_changes_per_hour(min(room_dic['cfm_range']), room_dic['room_volume'])\n",
    "print(\"Min ACH for \" + str(room_id) + \" is \" + str(ach))"
   ]
  },
  {
   "cell_type": "markdown",
   "metadata": {},
   "source": [
    "To determine the number of infected occupants in a room the infection rate must be known. \n",
    "\n",
    "As of the 12/10/20 the infection rate for UC San Diego students is 11 cases / 11 / 1,385 tests. This information can be found on the [UCSD Return to Learn Dashboard](https://returntolearn.ucsd.edu/dashboard/index.html). The infection rate means the probability of any given student on campus to be infected is 0.79%, assuming widespread testing. \n",
    "\n",
    "So if our number of occupants is 50, the estimated number of infected occupants would be 0.375. When the n_occupants is too small to produce >= 1 infected occupants using the infection rate, we will assume 1 infected occupant to estimate risk  in order to produce relevant results."
   ]
  },
  {
   "cell_type": "code",
   "execution_count": null,
   "metadata": {},
   "outputs": [],
   "source": [
    "infection_rate = (2 + 11 + 10+ 3 + 7 + 10 + 12 + 5)/(20 + 1385 + 1375 + 286 + 1332 + 1414 + 944 + 1244)\n",
    "#In order to produce a relevant result, we must assume at least one infected occupant if the  \n",
    "#infection rate produces < 1 infected occupants. \n",
    "n_infected = int(infection_rate * n_occupants)\n",
    "if n_infected < 1:\n",
    "    n_infected = 1"
   ]
  },
  {
   "cell_type": "markdown",
   "metadata": {},
   "source": [
    "<b>n0</b> or initial quanta is assumed to be zero in our experiment. This is because there doesn't seem to be an accurate way of determining this value. Assuming a natural ventilation ACH of .2, the IVRR would be 1.02(hr-1) meaning that in a little under an hour any viral particles would be inactive. So for the sake of this experiment we will assume the room has been empty for about an hour beforehand. "
   ]
  },
  {
   "cell_type": "code",
   "execution_count": null,
   "metadata": {},
   "outputs": [],
   "source": [
    "ivrr = .63 + .24 + ach\n",
    "def quanta_concentration(t, I = n_infected, ERq = ERq1, V = room_dic['room_volume_m'], n0 = 0, IVRR = ivrr):\n",
    "    return ((ERq * I) / (IVRR * V)) + (n0 + ((ERq * I) / IVRR)) * ((np.e**(-IVRR * t)) / V)\n",
    "\n",
    "fig = plt.figure()\n",
    "ax = plt.axes()\n",
    "plt.xlabel('Time (hr.)')\n",
    "plt.ylabel('Quanta per cubic meter')\n",
    "plt.title('Minimum Ventilation')\n",
    "f2 = np.vectorize(quanta_concentration) \n",
    "x = np.linspace(0, t)\n",
    "ax.plot(x, f2(x));"
   ]
  },
  {
   "cell_type": "code",
   "execution_count": null,
   "metadata": {},
   "outputs": [],
   "source": [
    "ivrr = .63 + .24\n",
    "def quanta_concentration(t, I = n_infected, ERq = ERq1, V = room_dic['room_volume_m'], n0 = 0, IVRR = ivrr):\n",
    "    return ((ERq * I) / (IVRR * V)) + (n0 + ((ERq * I) / IVRR)) * ((np.e**(-IVRR * t)) / V)\n",
    "\n",
    "fig = plt.figure()\n",
    "ax = plt.axes()\n",
    "plt.xlabel('Time (hr.)')\n",
    "plt.ylabel('Quanta per cubic meter')\n",
    "plt.title('No Ventilation')\n",
    "f2 = np.vectorize(quanta_concentration) \n",
    "x = np.linspace(0, t)\n",
    "ax.plot(x, f2(x));"
   ]
  },
  {
   "cell_type": "markdown",
   "metadata": {},
   "source": [
    "Above we have plotted the quanta concentration over time using minimum ventilation as well as no ventilation at all. \n",
    "It is important to note that this model of quanta concentration assumes that the air change will begin at t = 0 so the quanta concentration will continue to decrease over time. This implies the building HVAC system would ventilate in a constant fashion. In reality, HVAC systems tend to work in a cyclical fashion, providing short spurts of air to maintain stable temperatures. Below is an figure from Gupta et al. \"Zonal Air Handling in Commercial Buildings\" depicting this behavior. \n",
    "\n",
    "![title](images/supplyairflow.png)\n"
   ]
  },
  {
   "cell_type": "markdown",
   "metadata": {},
   "source": [
    "Finally, to determine the the number of predicted susceptible people infected after the exposure time, we must find the product of the infection risk R and the number of susceptible people. \n",
    "To find R, we use the function below\n",
    "![title](images/formula3.png)"
   ]
  },
  {
   "cell_type": "code",
   "execution_count": null,
   "metadata": {},
   "outputs": [],
   "source": [
    "\n",
    "walking_talking_risk = infection_risk(t, 'CENTER 101', 50, 'light_exercise', 'speaking', sys_path + '/data/raw/rm.csv')\n",
    "sitting_whisper_risk = infection_risk(t, 'CENTER 101', 50, 'resting', 'whispering', sys_path + '/data/raw/rm.csv')\n",
    "average_risk = (walking_talking_risk + sitting_whisper_risk) /2"
   ]
  },
  {
   "cell_type": "code",
   "execution_count": null,
   "metadata": {},
   "outputs": [],
   "source": [
    "infection_risk(t, 'PETER 110', 50, 'light_exercise', 'speaking', sys_path + '/data/raw/rm.csv')\n"
   ]
  },
  {
   "cell_type": "markdown",
   "metadata": {},
   "source": [
    "We decided to average out the two actions student might engage in in the classroom, those being walking, talking,and sitting and whispering. This produced an average risk of 1.89% with 0 occupants estimated to be infected.\n",
    "Lets compare this to pre-COVID capcacity..."
   ]
  },
  {
   "cell_type": "markdown",
   "metadata": {},
   "source": [
    "## User Interface"
   ]
  },
  {
   "cell_type": "markdown",
   "metadata": {},
   "source": [
    "In the past weeks we have worked on the user interface. Our goal is to provide an easy-to-use interface that clearly provides information about the backend process of the calculator.\n",
    "This current version is a basic version to convey the function of the user interface. \n",
    "Run the code below to see the User Interface"
   ]
  },
  {
   "cell_type": "code",
   "execution_count": null,
   "metadata": {},
   "outputs": [],
   "source": [
    "from jupyter_dash import JupyterDash\n",
    "import dash\n",
    "import dash_core_components as dcc\n",
    "import dash_html_components as html\n",
    "import dash\n",
    "import os\n",
    "import sys\n",
    "sys_path = os.path.dirname(os.getcwd())\n",
    "src_path = sys_path + \"/src\"\n",
    "\n",
    "sys.path.insert(1, src_path)\n",
    "from calculator import *\n",
    "assumptions = var\n",
    "src_path = sys_path + \"/notebook\"\n",
    "sys.path.insert(1, src_path)\n",
    "rid_path = 'rm.csv'\n",
    "sys_path = os.path.dirname(os.getcwd())\n",
    "data_path = sys_path + \"/data/\"\n",
    "room_df = pd.read_csv(data_path + rid_path)\n",
    "rooms_id = []\n",
    "for rid in room_df['Room']:\n",
    "    rooms_id.append({'label': rid, 'value': rid})"
   ]
  },
  {
   "cell_type": "code",
   "execution_count": null,
   "metadata": {},
   "outputs": [],
   "source": [
    "external_stylesheets = ['https://codepen.io/chriddyp/pen/bWLwgP.css']\n",
    "app = JupyterDash(__name__, external_stylesheets=external_stylesheets)\n",
    "\n",
    "server = app.server\n",
    "activities = [{'label':'Lecture', 'value':'Lecture'}, {'label':'Studying', 'value':'Studying'}, {'label':'Singing', 'value':'Singing'}, {'label':'Social', 'value':'Social'}, {'label':'Exercising', 'value':'Exercising'}]\n",
    "app.layout = html.Div([\n",
    "    html.H6(\"Event Information\"),\n",
    "    #MAKE ROOM ID A DROP DOWN?\n",
    "    html.Div([\"RoomID: \",\n",
    "              dcc.Dropdown(id='room-dropdown', value='test', options = rooms_id)]),\n",
    "    html.Br(),\n",
    "    html.Div([\"Duration of Event (min): \",\n",
    "              dcc.Input(id='time-input', value = 0, type='number')]),\n",
    "    html.Br(),\n",
    "    html.Div([\"Number of Occupants: \",\n",
    "              dcc.Input(id='occupant-input', value = 0, type='number')]),\n",
    "    html.Br(),\n",
    "    html.Div([\"Activity: \",\n",
    "              dcc.Dropdown(id='activity-dropdown', value ='test', options=activities)]),\n",
    "#     html.Br(),\n",
    "#     html.Button('Reset', id='reset-button'),\n",
    "    html.Br(),\n",
    "    html.Button('Go', id = 'go-button', n_clicks = 0),\n",
    "    html.Br(),\n",
    "    html.Div(id = 'calc-output', children = 'Enter values to calculate risk')\n",
    "\n",
    "])\n",
    "\n",
    "@app.callback(\n",
    "    dash.dependencies.Output('calc-output', 'children'),\n",
    "    [dash.dependencies.Input('go-button', 'n_clicks')],\n",
    "    [dash.dependencies.Input('activity-dropdown', 'value')],\n",
    "    [dash.dependencies.Input('room-dropdown', 'value')],\n",
    "    [dash.dependencies.State('time-input', 'value')],\n",
    "    [dash.dependencies.State('occupant-input', 'value')]\n",
    ")\n",
    "def update_calc(n_clicks, activity_dropdown, room_input, time_input, occupant_input):\n",
    "    if n_clicks >= 1:\n",
    "        comp_ir = ui_calc(activity_dropdown, room_input, time_input, occupant_input, data_path + rid_path)\n",
    "        total_inf = int(occupant_input * comp_ir)\n",
    "        to_return = 'The risk of an individual infected because of holding a(n) {} event for {} minutes in {} is {}%, given the most recent infection rates. With {} occupants, it is likely that {} occupant(s) will be infected.'.format(activity_dropdown, \n",
    "                                                                                                                                time_input, \n",
    "                                                                                                                                room_input, \n",
    "                                                                                                                                round((comp_ir * 100),2), \n",
    "                                                                                                                                occupant_input,\n",
    "                                                                                                                                total_inf)\n",
    "        return to_return\n",
    "    else:\n",
    "        return 'Enter Values to get risk calculation'"
   ]
  },
  {
   "cell_type": "code",
   "execution_count": null,
   "metadata": {},
   "outputs": [],
   "source": [
    "app.run_server(mode=\"inline\")"
   ]
  },
  {
   "cell_type": "markdown",
   "metadata": {},
   "source": [
    "## Ongoing and Future Work"
   ]
  },
  {
   "cell_type": "markdown",
   "metadata": {},
   "source": [
    "1. Unfortunately the effect of social distancing and mask wearing was not directly addressed by this model. Social distancing was indirectly addressed by the assumed 1.5m (>6ft) distance from the emission source in calculating deposition rate. The effect of masks on this model will require further research. \n",
    "\n",
    "2. This model measures the decay in quanta concentration over time well but it does not account for the nature of HVAC systems in buildings. In order to make this algorithm accurate and convenient it should interact more directly with the buildings it is analyzing, meaning that it queries building databases and building metadata to extract real-time and accurate data regarding dimensions, VAV flow capacity, sensor data, etc., in order to more accurately ascribe infection risk to rooms. \n",
    "\n",
    "3. We are currently looking into methods for extracting building data from campus databases. Building data includes room area, room heigt, and VAV CFM range by room. \n"
   ]
  }
 ],
 "metadata": {
  "kernelspec": {
   "display_name": "Python 3",
   "language": "python",
   "name": "python3"
  },
  "language_info": {
   "codemirror_mode": {
    "name": "ipython",
    "version": 3
   },
   "file_extension": ".py",
   "mimetype": "text/x-python",
   "name": "python",
   "nbconvert_exporter": "python",
   "pygments_lexer": "ipython3",
   "version": "3.8.5"
  }
 },
 "nbformat": 4,
 "nbformat_minor": 4
}
