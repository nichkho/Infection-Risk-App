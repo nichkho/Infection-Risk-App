{
 "cells": [
  {
   "cell_type": "markdown",
   "metadata": {},
   "source": [
    "# Website Demo for Infection Risk Calculator with Information Retrieved from Univeristy Systems"
   ]
  },
  {
   "cell_type": "markdown",
   "metadata": {},
   "source": [
    "**This is the demo for our website application which estimates infection risk based on building information** "
   ]
  },
  {
   "cell_type": "markdown",
   "metadata": {},
   "source": [
    "Import necessary packages and files"
   ]
  },
  {
   "cell_type": "code",
   "execution_count": 1,
   "metadata": {},
   "outputs": [],
   "source": [
    "from jupyter_dash import JupyterDash\n",
    "import dash\n",
    "\n",
    "\n",
    "import os\n",
    "\n",
    "import sys\n",
    "import dash_core_components as dcc\n",
    "import dash_html_components as html\n",
    "import dash\n",
    "import sys\n",
    "import os\n",
    "sys_path = os.path.dirname(os.getcwd())\n",
    "src_path = sys_path + \"/src\"\n",
    "\n",
    "sys.path.insert(1, src_path)\n",
    "from calculator import *\n",
    "assumptions = var\n",
    "src_path = sys_path + \"/notebook\"\n",
    "\n",
    "sys.path.insert(1, src_path)"
   ]
  },
  {
   "cell_type": "code",
   "execution_count": 3,
   "metadata": {},
   "outputs": [
    {
     "name": "stdout",
     "output_type": "stream",
     "text": [
      "Collecting jupyter-dash\n",
      "  Using cached jupyter_dash-0.4.0-py3-none-any.whl (20 kB)\n",
      "Collecting ansi2html\n",
      "  Using cached ansi2html-1.6.0-py3-none-any.whl (14 kB)\n",
      "Collecting dash\n",
      "  Using cached dash-1.19.0.tar.gz (75 kB)\n",
      "Collecting retrying\n",
      "  Using cached retrying-1.3.3.tar.gz (10 kB)\n",
      "Requirement already satisfied: flask in j:\\anaconda\\lib\\site-packages (from jupyter-dash) (1.1.1)\n",
      "Requirement already satisfied: ipykernel in j:\\anaconda\\lib\\site-packages (from jupyter-dash) (5.1.4)\n",
      "Requirement already satisfied: ipython in j:\\anaconda\\lib\\site-packages (from jupyter-dash) (7.12.0)\n",
      "Requirement already satisfied: requests in j:\\anaconda\\lib\\site-packages (from jupyter-dash) (2.22.0)\n",
      "Collecting flask-compress\n",
      "  Using cached Flask_Compress-1.8.0-py3-none-any.whl (7.2 kB)\n",
      "Collecting plotly\n",
      "  Using cached plotly-4.14.3-py2.py3-none-any.whl (13.2 MB)\n",
      "Collecting dash_renderer==1.9.0\n",
      "  Using cached dash_renderer-1.9.0.tar.gz (1.0 MB)\n",
      "Collecting dash-core-components==1.15.0\n",
      "  Using cached dash_core_components-1.15.0.tar.gz (3.5 MB)\n",
      "Collecting dash-html-components==1.1.2\n",
      "  Using cached dash_html_components-1.1.2.tar.gz (188 kB)\n",
      "Collecting dash-table==4.11.2\n",
      "  Using cached dash_table-4.11.2.tar.gz (1.8 MB)\n",
      "Requirement already satisfied: future in j:\\anaconda\\lib\\site-packages (from dash->jupyter-dash) (0.18.2)\n",
      "Requirement already satisfied: six>=1.7.0 in j:\\anaconda\\lib\\site-packages (from retrying->jupyter-dash) (1.15.0)\n",
      "Requirement already satisfied: click>=5.1 in j:\\anaconda\\lib\\site-packages (from flask->jupyter-dash) (7.0)\n",
      "Requirement already satisfied: Werkzeug>=0.15 in j:\\anaconda\\lib\\site-packages (from flask->jupyter-dash) (1.0.0)\n",
      "Requirement already satisfied: Jinja2>=2.10.1 in j:\\anaconda\\lib\\site-packages (from flask->jupyter-dash) (2.11.1)\n",
      "Requirement already satisfied: itsdangerous>=0.24 in j:\\anaconda\\lib\\site-packages (from flask->jupyter-dash) (1.1.0)\n",
      "Requirement already satisfied: jupyter-client in j:\\anaconda\\lib\\site-packages (from ipykernel->jupyter-dash) (5.3.4)\n",
      "Requirement already satisfied: tornado>=4.2 in j:\\anaconda\\lib\\site-packages (from ipykernel->jupyter-dash) (6.0.3)\n",
      "Requirement already satisfied: traitlets>=4.1.0 in j:\\anaconda\\lib\\site-packages (from ipykernel->jupyter-dash) (4.3.3)\n",
      "Requirement already satisfied: prompt-toolkit!=3.0.0,!=3.0.1,<3.1.0,>=2.0.0 in j:\\anaconda\\lib\\site-packages (from ipython->jupyter-dash) (3.0.3)\n",
      "Requirement already satisfied: jedi>=0.10 in j:\\anaconda\\lib\\site-packages (from ipython->jupyter-dash) (0.16.0)\n",
      "Requirement already satisfied: colorama; sys_platform == \"win32\" in j:\\anaconda\\lib\\site-packages (from ipython->jupyter-dash) (0.4.3)\n",
      "Requirement already satisfied: pickleshare in j:\\anaconda\\lib\\site-packages (from ipython->jupyter-dash) (0.7.5)\n",
      "Requirement already satisfied: setuptools>=18.5 in j:\\anaconda\\lib\\site-packages (from ipython->jupyter-dash) (45.2.0.post20200210)\n",
      "Requirement already satisfied: pygments in j:\\anaconda\\lib\\site-packages (from ipython->jupyter-dash) (2.5.2)\n",
      "Requirement already satisfied: decorator in j:\\anaconda\\lib\\site-packages (from ipython->jupyter-dash) (4.4.1)\n",
      "Requirement already satisfied: backcall in j:\\anaconda\\lib\\site-packages (from ipython->jupyter-dash) (0.1.0)\n",
      "Requirement already satisfied: chardet<3.1.0,>=3.0.2 in j:\\anaconda\\lib\\site-packages (from requests->jupyter-dash) (3.0.4)\n",
      "Requirement already satisfied: certifi>=2017.4.17 in j:\\anaconda\\lib\\site-packages (from requests->jupyter-dash) (2020.4.5.1)\n",
      "Requirement already satisfied: idna<2.9,>=2.5 in j:\\anaconda\\lib\\site-packages (from requests->jupyter-dash) (2.8)\n",
      "Requirement already satisfied: urllib3!=1.25.0,!=1.25.1,<1.26,>=1.21.1 in j:\\anaconda\\lib\\site-packages (from requests->jupyter-dash) (1.25.8)\n",
      "Collecting brotli\n",
      "  Downloading Brotli-1.0.9-cp37-cp37m-win_amd64.whl (365 kB)\n",
      "Requirement already satisfied: MarkupSafe>=0.23 in j:\\anaconda\\lib\\site-packages (from Jinja2>=2.10.1->flask->jupyter-dash) (1.1.1)\n",
      "Requirement already satisfied: python-dateutil>=2.1 in j:\\anaconda\\lib\\site-packages (from jupyter-client->ipykernel->jupyter-dash) (2.8.1)\n",
      "Requirement already satisfied: pywin32>=1.0; sys_platform == \"win32\" in j:\\anaconda\\lib\\site-packages (from jupyter-client->ipykernel->jupyter-dash) (227)\n",
      "Requirement already satisfied: jupyter-core>=4.6.0 in j:\\anaconda\\lib\\site-packages (from jupyter-client->ipykernel->jupyter-dash) (4.6.1)\n",
      "Requirement already satisfied: pyzmq>=13 in j:\\anaconda\\lib\\site-packages (from jupyter-client->ipykernel->jupyter-dash) (18.1.1)\n",
      "Requirement already satisfied: ipython-genutils in j:\\anaconda\\lib\\site-packages (from traitlets>=4.1.0->ipykernel->jupyter-dash) (0.2.0)\n",
      "Requirement already satisfied: wcwidth in j:\\anaconda\\lib\\site-packages (from prompt-toolkit!=3.0.0,!=3.0.1,<3.1.0,>=2.0.0->ipython->jupyter-dash) (0.1.8)\n",
      "Requirement already satisfied: parso>=0.5.2 in j:\\anaconda\\lib\\site-packages (from jedi>=0.10->ipython->jupyter-dash) (0.6.1)\n",
      "Building wheels for collected packages: dash, retrying, dash-renderer, dash-core-components, dash-html-components, dash-table\n",
      "  Building wheel for dash (setup.py): started\n",
      "  Building wheel for dash (setup.py): finished with status 'done'\n",
      "  Created wheel for dash: filename=dash-1.19.0-py3-none-any.whl size=84016 sha256=6be76a0639d2b39a91c31ed8e10714545063ee955b4ceddfff09b7a434cd5ba1\n",
      "  Stored in directory: c:\\users\\hinanawits\\appdata\\local\\pip\\cache\\wheels\\85\\e9\\f4\\033d9bd19fe04ba8b3b41b6cfaec3c4634e85bdcdd82858ff3\n",
      "  Building wheel for retrying (setup.py): started\n",
      "  Building wheel for retrying (setup.py): finished with status 'done'\n",
      "  Created wheel for retrying: filename=retrying-1.3.3-py3-none-any.whl size=11435 sha256=d39941020b7b12c1b8db7b31100f638811b12ef057137bcec51242e73c54b1d0\n",
      "  Stored in directory: c:\\users\\hinanawits\\appdata\\local\\pip\\cache\\wheels\\f9\\8d\\8d\\f6af3f7f9eea3553bc2fe6d53e4b287dad18b06a861ac56ddf\n",
      "  Building wheel for dash-renderer (setup.py): started\n",
      "  Building wheel for dash-renderer (setup.py): finished with status 'done'\n",
      "  Created wheel for dash-renderer: filename=dash_renderer-1.9.0-py3-none-any.whl size=1014874 sha256=8aed8daefbb5a7854d166fc8187273c0f93ce3e1ddd9c75a305fdd3cd4952ab6\n",
      "  Stored in directory: c:\\users\\hinanawits\\appdata\\local\\pip\\cache\\wheels\\bb\\53\\d4\\13f2804207aada48c7182dfb85e03b50feecdf601e50ff5603\n",
      "  Building wheel for dash-core-components (setup.py): started\n",
      "  Building wheel for dash-core-components (setup.py): finished with status 'done'\n",
      "  Created wheel for dash-core-components: filename=dash_core_components-1.15.0-py3-none-any.whl size=3527019 sha256=70f7ff9eaddb086dcac7069cb35d13e0f454aeacf9c426a54aa26cdf39ad5b9c\n",
      "  Stored in directory: c:\\users\\hinanawits\\appdata\\local\\pip\\cache\\wheels\\02\\a5\\de\\374685270e68a4a49867f9c0ddd477a85e09eb1a2cb0998f92\n",
      "  Building wheel for dash-html-components (setup.py): started\n",
      "  Building wheel for dash-html-components (setup.py): finished with status 'done'\n",
      "  Created wheel for dash-html-components: filename=dash_html_components-1.1.2-py3-none-any.whl size=427836 sha256=9d2a404a63f08754a861cb454709a1511b8bf5dd3eb465f2a58247749e92aa0d\n",
      "  Stored in directory: c:\\users\\hinanawits\\appdata\\local\\pip\\cache\\wheels\\99\\cb\\33\\e4a2c51ecfcaa8ebeb37c1835d878860b76b2101833e31b434\n",
      "  Building wheel for dash-table (setup.py): started\n",
      "  Building wheel for dash-table (setup.py): finished with status 'done'\n",
      "  Created wheel for dash-table: filename=dash_table-4.11.2-py3-none-any.whl size=1839874 sha256=eeb2986112a84f6916af69e471c88cba3fac12f9aba8439d947303018163f24e\n",
      "  Stored in directory: c:\\users\\hinanawits\\appdata\\local\\pip\\cache\\wheels\\57\\bc\\76\\fd2c8bfa63b7360f1dbf9814fb622ec0c7bec0107e6032e8fd\n",
      "Successfully built dash retrying dash-renderer dash-core-components dash-html-components dash-table\n",
      "Installing collected packages: ansi2html, brotli, flask-compress, retrying, plotly, dash-renderer, dash-core-components, dash-html-components, dash-table, dash, jupyter-dash\n",
      "Successfully installed ansi2html-1.6.0 brotli-1.0.9 dash-1.19.0 dash-core-components-1.15.0 dash-html-components-1.1.2 dash-renderer-1.9.0 dash-table-4.11.2 flask-compress-1.8.0 jupyter-dash-0.4.0 plotly-4.14.3 retrying-1.3.3\n",
      "Note: you may need to restart the kernel to use updated packages.\n"
     ]
    }
   ],
   "source": [
    "pip install jupyter-dash # Install jupyter-dash for running HTML in Python"
   ]
  },
  {
   "cell_type": "markdown",
   "metadata": {},
   "source": [
    "Import data"
   ]
  },
  {
   "cell_type": "code",
   "execution_count": 2,
   "metadata": {},
   "outputs": [
    {
     "data": {
      "text/html": [
       "<div>\n",
       "<style scoped>\n",
       "    .dataframe tbody tr th:only-of-type {\n",
       "        vertical-align: middle;\n",
       "    }\n",
       "\n",
       "    .dataframe tbody tr th {\n",
       "        vertical-align: top;\n",
       "    }\n",
       "\n",
       "    .dataframe thead th {\n",
       "        text-align: right;\n",
       "    }\n",
       "</style>\n",
       "<table border=\"1\" class=\"dataframe\">\n",
       "  <thead>\n",
       "    <tr style=\"text-align: right;\">\n",
       "      <th></th>\n",
       "      <th>Room</th>\n",
       "      <th>Area</th>\n",
       "      <th>Height</th>\n",
       "      <th>Windows</th>\n",
       "      <th>Capacity</th>\n",
       "      <th>C19_Occupancy</th>\n",
       "      <th>VAVmin</th>\n",
       "      <th>VAVmax</th>\n",
       "    </tr>\n",
       "  </thead>\n",
       "  <tbody>\n",
       "    <tr>\n",
       "      <th>0</th>\n",
       "      <td>CENTER 101</td>\n",
       "      <td>3428</td>\n",
       "      <td>21.0</td>\n",
       "      <td>NaN</td>\n",
       "      <td>295.0</td>\n",
       "      <td>50.0</td>\n",
       "      <td>3500.0</td>\n",
       "      <td>7000.0</td>\n",
       "    </tr>\n",
       "    <tr>\n",
       "      <th>1</th>\n",
       "      <td>CENTER 115</td>\n",
       "      <td>2143</td>\n",
       "      <td>21.0</td>\n",
       "      <td>NaN</td>\n",
       "      <td>196.0</td>\n",
       "      <td>31.0</td>\n",
       "      <td>1290.0</td>\n",
       "      <td>4300.0</td>\n",
       "    </tr>\n",
       "    <tr>\n",
       "      <th>2</th>\n",
       "      <td>CENTER 119</td>\n",
       "      <td>2144</td>\n",
       "      <td>21.0</td>\n",
       "      <td>NaN</td>\n",
       "      <td>196.0</td>\n",
       "      <td>30.0</td>\n",
       "      <td>1290.0</td>\n",
       "      <td>4300.0</td>\n",
       "    </tr>\n",
       "    <tr>\n",
       "      <th>3</th>\n",
       "      <td>GH 242</td>\n",
       "      <td>2956</td>\n",
       "      <td>NaN</td>\n",
       "      <td>NaN</td>\n",
       "      <td>417.0</td>\n",
       "      <td>50.0</td>\n",
       "      <td>935.0</td>\n",
       "      <td>2325.0</td>\n",
       "    </tr>\n",
       "    <tr>\n",
       "      <th>4</th>\n",
       "      <td>LEDDN AUD</td>\n",
       "      <td>1888</td>\n",
       "      <td>NaN</td>\n",
       "      <td>NaN</td>\n",
       "      <td>216.0</td>\n",
       "      <td>30.0</td>\n",
       "      <td>4000.0</td>\n",
       "      <td>12000.0</td>\n",
       "    </tr>\n",
       "  </tbody>\n",
       "</table>\n",
       "</div>"
      ],
      "text/plain": [
       "         Room  Area  Height  Windows  Capacity  C19_Occupancy  VAVmin   VAVmax\n",
       "0  CENTER 101  3428    21.0      NaN     295.0           50.0  3500.0   7000.0\n",
       "1  CENTER 115  2143    21.0      NaN     196.0           31.0  1290.0   4300.0\n",
       "2  CENTER 119  2144    21.0      NaN     196.0           30.0  1290.0   4300.0\n",
       "3      GH 242  2956     NaN      NaN     417.0           50.0   935.0   2325.0\n",
       "4   LEDDN AUD  1888     NaN      NaN     216.0           30.0  4000.0  12000.0"
      ]
     },
     "execution_count": 2,
     "metadata": {},
     "output_type": "execute_result"
    }
   ],
   "source": [
    "rid_path = 'rm.csv'\n",
    "sys_path = os.path.dirname(os.getcwd())\n",
    "\n",
    "\n",
    "data_path = sys_path + \"/data/\"\n",
    "\n",
    "room_df = pd.read_csv(data_path + rid_path)\n",
    "rooms = room_df.copy()\n",
    "\n",
    "rooms_id = []\n",
    "for rid in room_df['Room']:\n",
    "    rooms_id.append({'label': rid, 'value': rid})\n",
    "    \n",
    "rooms.head()"
   ]
  },
  {
   "cell_type": "markdown",
   "metadata": {},
   "source": [
    "demo run for debug purpose. "
   ]
  },
  {
   "cell_type": "code",
   "execution_count": 5,
   "metadata": {},
   "outputs": [
    {
     "name": "stdout",
     "output_type": "stream",
     "text": [
      "The resulting risk of infection is 1.293014369281087%\n",
      "It is predicted that 0.01293014369281087 x 100 = 1 susceptible occupants will be infected\n",
      "The resulting risk of infection is 21.448979453682725%\n",
      "It is predicted that 0.21448979453682726 x 100 = 21 susceptible occupants will be infected\n"
     ]
    },
    {
     "data": {
      "text/plain": [
       "0.11370996911481906"
      ]
     },
     "execution_count": 5,
     "metadata": {},
     "output_type": "execute_result"
    }
   ],
   "source": [
    "ui_calc(\"Lecture\", \"CENTER 101\", 110, 100, data_path + rid_path, \"max\")"
   ]
  },
  {
   "cell_type": "markdown",
   "metadata": {},
   "source": [
    "**Build Website** "
   ]
  },
  {
   "cell_type": "code",
   "execution_count": 7,
   "metadata": {},
   "outputs": [],
   "source": [
    "external_stylesheets = ['https://codepen.io/chriddyp/pen/bWLwgP.css']\n",
    "app = JupyterDash(__name__, external_stylesheets=external_stylesheets)\n",
    "\n",
    "server = app.server\n",
    "activities = [{'label':'Lecture', 'value':'Lecture'}, {'label':'Studying', 'value':'Studying'}, {'label':'Singing', 'value':'Singing'}, {'label':'Social', 'value':'Social'}, {'label':'Exercising', 'value':'Exercising'}]\n",
    "app.layout = html.Div([\n",
    "    html.H6(\"Event Information\"),\n",
    "    #MAKE ROOM ID A DROP DOWN?\n",
    "    html.Div([\"RoomID: \",\n",
    "              dcc.Dropdown(id='room-dropdown', value='test', options = rooms_id)]),\n",
    "    html.Br(),\n",
    "    html.Div([\"Duration of Event (min): \",\n",
    "              dcc.Input(id='time-input', value = 0, type='number')]),\n",
    "    html.Br(),\n",
    "    html.Div([\"Number of Occupants: \",\n",
    "              dcc.Input(id='occupant-input', value = 0, type='number')]),\n",
    "    html.Br(),\n",
    "    html.Div([\"Activity: \",\n",
    "              dcc.Dropdown(id='activity-dropdown', value ='test', options=activities)]),\n",
    "#     html.Br(),\n",
    "#     html.Button('Reset', id='reset-button'),\n",
    "    html.Br(),\n",
    "    html.Button('Go', id = 'go-button', n_clicks = 0),\n",
    "    html.Br(),\n",
    "    html.Div(id = 'calc-output', children = 'Enter values to calculate risk')\n",
    "\n",
    "])\n",
    "\n",
    "@app.callback(\n",
    "    dash.dependencies.Output('calc-output', 'children'),\n",
    "    [dash.dependencies.Input('go-button', 'n_clicks')],\n",
    "    [dash.dependencies.Input('activity-dropdown', 'value')],\n",
    "    [dash.dependencies.Input('room-dropdown', 'value')],\n",
    "    [dash.dependencies.State('time-input', 'value')],\n",
    "    [dash.dependencies.State('occupant-input', 'value')]\n",
    ")\n",
    "def update_calc(n_clicks, activity_dropdown, room_input, time_input, occupant_input):\n",
    "    if n_clicks >= 1:\n",
    "        comp_ir = ui_calc(activity_dropdown, room_input, time_input, occupant_input, data_path + rid_path)\n",
    "        total_inf = int(occupant_input * comp_ir)\n",
    "        to_return = 'The risk of an individual infected because of holding a(n) {} event for {} minutes in {} is {}%, given the most recent infection rates. With {} occupants, it is likely that {} occupant(s) will be infected.'.format(activity_dropdown, \n",
    "                                                                                                                                time_input, \n",
    "                                                                                                                                room_input, \n",
    "                                                                                                                                round((comp_ir * 100),2), \n",
    "                                                                                                                                occupant_input,\n",
    "                                                                                                                                total_inf)\n",
    "        return to_return\n",
    "    else:\n",
    "        return 'Enter Values to get risk calculation'"
   ]
  },
  {
   "cell_type": "code",
   "execution_count": 8,
   "metadata": {
    "scrolled": true
   },
   "outputs": [
    {
     "data": {
      "text/html": [
       "\n",
       "        <iframe\n",
       "            width=\"100%\"\n",
       "            height=\"650\"\n",
       "            src=\"http://127.0.0.1:8050/\"\n",
       "            frameborder=\"0\"\n",
       "            allowfullscreen\n",
       "        ></iframe>\n",
       "        "
      ],
      "text/plain": [
       "<IPython.lib.display.IFrame at 0x1bb814eaf48>"
      ]
     },
     "metadata": {},
     "output_type": "display_data"
    },
    {
     "name": "stdout",
     "output_type": "stream",
     "text": [
      "The resulting risk of infection is 1.293014369281087%\n",
      "It is predicted that 0.01293014369281087 x 100 = 1 susceptible occupants will be infected\n",
      "The resulting risk of infection is 21.448979453682725%\n",
      "It is predicted that 0.21448979453682726 x 100 = 21 susceptible occupants will be infected\n"
     ]
    }
   ],
   "source": [
    "app.run_server(mode=\"inline\")"
   ]
  },
  {
   "cell_type": "code",
   "execution_count": null,
   "metadata": {},
   "outputs": [],
   "source": []
  }
 ],
 "metadata": {
  "kernelspec": {
   "display_name": "Python 3",
   "language": "python",
   "name": "python3"
  },
  "language_info": {
   "codemirror_mode": {
    "name": "ipython",
    "version": 3
   },
   "file_extension": ".py",
   "mimetype": "text/x-python",
   "name": "python",
   "nbconvert_exporter": "python",
   "pygments_lexer": "ipython3",
   "version": "3.7.6"
  }
 },
 "nbformat": 4,
 "nbformat_minor": 2
}
