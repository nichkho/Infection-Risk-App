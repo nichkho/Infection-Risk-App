{
 "cells": [
  {
   "cell_type": "markdown",
   "metadata": {},
   "source": [
    "# Website Demo for Infection Risk Calculator with Information Retrieved from Univeristy Systems"
   ]
  },
  {
   "cell_type": "markdown",
   "metadata": {},
   "source": [
    "**This is the demo for our website application which estimates infection risk based on building information** "
   ]
  },
  {
   "cell_type": "markdown",
   "metadata": {},
   "source": [
    "Import necessary packages and files"
   ]
  },
  {
   "cell_type": "code",
   "execution_count": 1,
   "metadata": {},
   "outputs": [],
   "source": [
    "from jupyter_dash import JupyterDash\n",
    "import dash\n",
    "\n",
    "\n",
    "import os\n",
    "\n",
    "import sys\n",
    "import dash_core_components as dcc\n",
    "import dash_html_components as html\n",
    "import dash\n",
    "import sys\n",
    "import os\n",
    "sys_path = os.path.dirname(os.getcwd())\n",
    "#for windows\n",
    "src_path = sys_path + \"\\src\"\n",
    "#for mac\n",
    "#src_path = sys_path + \"/src\"\n",
    "sys.path.insert(1, src_path)\n",
    "from calculator import *\n",
    "assumptions = var\n",
    "#for windows\n",
    "src_path = sys_path + \"\\notebook\"\n",
    "#for mac\n",
    "#src_path = sys_path + \"/notebook\"\n",
    "sys.path.insert(1, src_path)"
   ]
  },
  {
   "cell_type": "code",
   "execution_count": 2,
   "metadata": {},
   "outputs": [],
   "source": [
    "#pip install jupyter-dash # Uncomment this to Install jupyter-dash for running HTML in Python"
   ]
  },
  {
   "cell_type": "markdown",
   "metadata": {},
   "source": [
    "Import data"
   ]
  },
  {
   "cell_type": "code",
   "execution_count": 2,
   "metadata": {},
   "outputs": [
    {
     "data": {
      "text/html": [
       "<div>\n",
       "<style scoped>\n",
       "    .dataframe tbody tr th:only-of-type {\n",
       "        vertical-align: middle;\n",
       "    }\n",
       "\n",
       "    .dataframe tbody tr th {\n",
       "        vertical-align: top;\n",
       "    }\n",
       "\n",
       "    .dataframe thead th {\n",
       "        text-align: right;\n",
       "    }\n",
       "</style>\n",
       "<table border=\"1\" class=\"dataframe\">\n",
       "  <thead>\n",
       "    <tr style=\"text-align: right;\">\n",
       "      <th></th>\n",
       "      <th>Room</th>\n",
       "      <th>Area</th>\n",
       "      <th>Height</th>\n",
       "      <th>Windows</th>\n",
       "      <th>Capacity</th>\n",
       "      <th>C19_Occupancy</th>\n",
       "      <th>VAVmin</th>\n",
       "      <th>VAVmax</th>\n",
       "    </tr>\n",
       "  </thead>\n",
       "  <tbody>\n",
       "    <tr>\n",
       "      <th>0</th>\n",
       "      <td>CENTER 101</td>\n",
       "      <td>3428</td>\n",
       "      <td>21.0</td>\n",
       "      <td>NaN</td>\n",
       "      <td>295.0</td>\n",
       "      <td>50.0</td>\n",
       "      <td>3500.0</td>\n",
       "      <td>7000.0</td>\n",
       "    </tr>\n",
       "    <tr>\n",
       "      <th>1</th>\n",
       "      <td>CENTER 115</td>\n",
       "      <td>2143</td>\n",
       "      <td>21.0</td>\n",
       "      <td>NaN</td>\n",
       "      <td>196.0</td>\n",
       "      <td>31.0</td>\n",
       "      <td>1290.0</td>\n",
       "      <td>4300.0</td>\n",
       "    </tr>\n",
       "    <tr>\n",
       "      <th>2</th>\n",
       "      <td>CENTER 119</td>\n",
       "      <td>2144</td>\n",
       "      <td>21.0</td>\n",
       "      <td>NaN</td>\n",
       "      <td>196.0</td>\n",
       "      <td>30.0</td>\n",
       "      <td>1290.0</td>\n",
       "      <td>4300.0</td>\n",
       "    </tr>\n",
       "    <tr>\n",
       "      <th>3</th>\n",
       "      <td>GH 242</td>\n",
       "      <td>2956</td>\n",
       "      <td>NaN</td>\n",
       "      <td>NaN</td>\n",
       "      <td>417.0</td>\n",
       "      <td>50.0</td>\n",
       "      <td>935.0</td>\n",
       "      <td>2325.0</td>\n",
       "    </tr>\n",
       "    <tr>\n",
       "      <th>4</th>\n",
       "      <td>LEDDN AUD</td>\n",
       "      <td>1888</td>\n",
       "      <td>NaN</td>\n",
       "      <td>NaN</td>\n",
       "      <td>216.0</td>\n",
       "      <td>30.0</td>\n",
       "      <td>4000.0</td>\n",
       "      <td>12000.0</td>\n",
       "    </tr>\n",
       "  </tbody>\n",
       "</table>\n",
       "</div>"
      ],
      "text/plain": [
       "         Room  Area  Height  Windows  Capacity  C19_Occupancy  VAVmin   VAVmax\n",
       "0  CENTER 101  3428    21.0      NaN     295.0           50.0  3500.0   7000.0\n",
       "1  CENTER 115  2143    21.0      NaN     196.0           31.0  1290.0   4300.0\n",
       "2  CENTER 119  2144    21.0      NaN     196.0           30.0  1290.0   4300.0\n",
       "3      GH 242  2956     NaN      NaN     417.0           50.0   935.0   2325.0\n",
       "4   LEDDN AUD  1888     NaN      NaN     216.0           30.0  4000.0  12000.0"
      ]
     },
     "execution_count": 2,
     "metadata": {},
     "output_type": "execute_result"
    }
   ],
   "source": [
    "rid_path = 'rm.csv'\n",
    "sys_path = os.path.dirname(os.getcwd())\n",
    "\n",
    "\n",
    "data_path = sys_path + \"/data/\"\n",
    "\n",
    "room_df = pd.read_csv(data_path + rid_path)\n",
    "rooms = room_df.copy()\n",
    "\n",
    "rooms_id = []\n",
    "for rid in room_df['Room']:\n",
    "    rooms_id.append({'label': rid, 'value': rid})\n",
    "    \n",
    "rooms.head()"
   ]
  },
  {
   "cell_type": "markdown",
   "metadata": {},
   "source": [
    "**Build Website** "
   ]
  },
  {
   "cell_type": "code",
   "execution_count": 5,
   "metadata": {},
   "outputs": [],
   "source": [
    "vav_room = {'Select...': [0,0,0]}\n",
    "index = 0\n",
    "for i in rooms['Room']:\n",
    "    vav_room[i] = [rooms['VAVmin'][index], rooms['VAVmax'][index], (rooms['VAVmin'][index] + rooms['VAVmax'][index])/2]\n",
    "    index += 1\n",
    "room_names =list(vav_room.keys())"
   ]
  },
  {
   "cell_type": "code",
   "execution_count": 10,
   "metadata": {},
   "outputs": [],
   "source": [
    "external_stylesheets = ['https://codepen.io/chriddyp/pen/bWLwgP.css']\n",
    "app = JupyterDash(__name__, external_stylesheets=external_stylesheets)\n",
    "\n",
    "server = app.server\n",
    "activities = [{'label':'Lecture', 'value':'Lecture'}, {'label':'Studying', 'value':'Studying'}, {'label':'Singing', 'value':'Singing'}, {'label':'Social', 'value':'Social'}, {'label':'Exercising', 'value':'Exercising'}]\n",
    "app.layout = html.Div([\n",
    "    html.H6(\"Event Information\"),\n",
    "    #MAKE ROOM ID A DROP DOWN?\n",
    "    html.Div([\"RoomID: \",\n",
    "              dcc.Dropdown(id='room-dropdown', value = list(vav_room.keys())[0],options = [{'label':name, 'value':name} for name in room_names])]),\n",
    "    html.Br(),\n",
    "    html.Div([\"VAV levels: \",\n",
    "             dcc.Dropdown(id='vav-dropdown')]),\n",
    "    html.Br(),\n",
    "    html.Div([\"Duration of Event (min): \",\n",
    "              dcc.Input(id='time-input', value = 0, type='number')]),\n",
    "    html.Br(),\n",
    "    html.Div([\"Number of Occupants: \",\n",
    "              dcc.Input(id='occupant-input', value = 0, type='number')]),\n",
    "    html.Br(),\n",
    "    html.Div([\"Activity: \",\n",
    "              dcc.Dropdown(id='activity-dropdown', value ='test', options=activities)]),\n",
    "    html.Br(),\n",
    "    html.Div([\"Masks: \",\n",
    "              dcc.RadioItems(id = 'masks-radio', value = 0,\n",
    "    options=[\n",
    "        {'label': 'Masks', 'value': 1},\n",
    "        {'label': 'No Masks', 'value': 0},\n",
    "    ], labelStyle={'display': 'inline-block'}\n",
    ")  ]),\n",
    "#     html.Br(),\n",
    "#     html.Button('Reset', id='reset-button'),\n",
    "    html.Br(),\n",
    "    html.Button('Go', id = 'go-button', n_clicks = 0),\n",
    "    html.Br(),\n",
    "    html.Div(id = 'calc-output', children = 'Enter values to calculate risk')\n",
    "\n",
    "])\n",
    "\n",
    "@app.callback(\n",
    "    dash.dependencies.Output('vav-dropdown', 'options'),\n",
    "    [dash.dependencies.Input('room-dropdown', 'value')]\n",
    ")\n",
    "def update_date_dropdown(name):\n",
    "    return [{'label': 'cfm min', 'value': \"min\"}, {'label': 'current', 'value': \"current\"}, {'label': 'cfm max', 'value': \"max\"}]\n",
    "\n",
    "@app.callback(\n",
    "    dash.dependencies.Output('calc-output', 'children'),\n",
    "    [dash.dependencies.Input('go-button', 'n_clicks')],\n",
    "    [dash.dependencies.Input('activity-dropdown', 'value')],\n",
    "    [dash.dependencies.Input('room-dropdown', 'value')],\n",
    "    [dash.dependencies.Input('vav-dropdown', 'value')],\n",
    "    [dash.dependencies.Input('masks-radio', 'value')],\n",
    "    [dash.dependencies.State('time-input', 'value')],\n",
    "    [dash.dependencies.State('occupant-input', 'value')]\n",
    ")\n",
    "def update_calc(n_clicks, activity_dropdown, room_input,vav_dropdown, time_input, occupant_input, mask_tf):\n",
    "    if n_clicks >= 1:\n",
    "        comp_ir = ui_calc(activity_dropdown, room_input, time_input, occupant_input, mask_tf, data_path + rid_path, vav_dropdown)\n",
    "        total_inf = int(occupant_input * comp_ir)\n",
    "        to_return = 'The risk of an individual infected because of holding a(n) {} event for {} minutes in {} is {}%, given the most recent infection rates. With {} occupants, it is likely that {} occupant(s) will be infected.'.format(activity_dropdown, \n",
    "                                                                                                                                time_input, \n",
    "                                                                                                                                room_input, \n",
    "                                                                                                                                round((comp_ir * 100),2), \n",
    "                                                                                                                                occupant_input,\n",
    "                                                                                                                                total_inf)\n",
    "        return to_return\n",
    "    else:\n",
    "        return 'Enter Values to get risk calculation' "
   ]
  },
  {
   "cell_type": "code",
   "execution_count": 11,
   "metadata": {
    "scrolled": true
   },
   "outputs": [
    {
     "name": "stdout",
     "output_type": "stream",
     "text": [
      "Dash app running on http://127.0.0.1:8050/\n",
      "The resulting risk of infection is 0.01818953634967757%\n",
      "It is predicted that 0.0001818953634967757 x 110 = 0 susceptible occupants will be infected\n",
      "The resulting risk of infection is 0.35898923339678923%\n",
      "It is predicted that 0.0035898923339678923 x 110 = 0 susceptible occupants will be infected\n",
      "The resulting risk of infection is 12.567943138089898%\n",
      "It is predicted that 0.125679431380899 x 110 = 13 susceptible occupants will be infected\n"
     ]
    }
   ],
   "source": [
    "app._terminate_server_for_port(\"localhost\", 8050)\n",
    "app.run_server()"
   ]
  },
  {
   "cell_type": "code",
   "execution_count": 15,
   "metadata": {},
   "outputs": [
    {
     "data": {
      "text/plain": [
       "'C:\\\\Users\\\\HinanawiTS\\\\Documents\\\\GitHub\\\\Infection-Risk-App/data/rm.csv'"
      ]
     },
     "execution_count": 15,
     "metadata": {},
     "output_type": "execute_result"
    }
   ],
   "source": [
    "data_path + rid_path "
   ]
  },
  {
   "cell_type": "code",
   "execution_count": 16,
   "metadata": {},
   "outputs": [],
   "source": [
    "def get_room_data(filepath, room_id):\n",
    "    CUBIC_FT_TO_METERS = 0.0283168\n",
    "    room_table = pd.read_csv(filepath)\n",
    "    room_dic = {}\n",
    "    if len(room_table.loc[room_table['Room'] == room_id]) == 0:\n",
    "        return print(\"User input error: Room \" + room_id + \" not found.\")\n",
    "    room_table.loc[room_table['Room'] == room_id]['Area']\n",
    "    #Room Area in square ft.\n",
    "    room_dic['room_area'] = room_table.loc[room_table['Room'] == room_id]['Area'].item()\n",
    "    #Room Height. Average room height of 10 ft is chosen if nan\n",
    "    room_hght = room_table.loc[room_table['Room'] == room_id]['Height'].item()\n",
    "    if np.isnan(room_hght):\n",
    "        print(room_id + ' Room height not found. Average room height of 10 ft imputed.')\n",
    "        room_hght = 10\n",
    "    room_dic['room_hght'] = room_hght\n",
    "    \n",
    "    #CFM range. If no CFM is provided min is chosen by default\n",
    "    cfm_min = room_table.loc[room_table['Room'] == room_id]['VAVmin'].item()\n",
    "    cfm_max = room_table.loc[room_table['Room'] == room_id]['VAVmax'].item()\n",
    "    \n",
    "    room_dic[\"cfm_min\"] = float(cfm_min)\n",
    "    \n",
    "    room_dic[\"cfm_max\"] = float(cfm_max)\n",
    "    \"\"\"if isinstance(cfm_range, float):\n",
    "        ca_requirement_cfm = .53 * room_dic['room_area']\n",
    "        room_dic['cfm_range'] = [ca_requirement_cfm, ca_requirement_cfm]\n",
    "        print(room_id + ' CFM rate not found. California minimum ventilation requirement imputed')\n",
    "    else:\n",
    "        room_dic['cfm_range'] = list(map(int, cfm_range.split(',')))\"\"\"\n",
    "    \n",
    "    #Windows\n",
    "    room_dic['windows'] = room_table.loc[room_table['Room'] == room_id]['Windows'].item()\n",
    "    \n",
    "    #V is volume of room\n",
    "    room_dic['room_volume'] = room_dic['room_area'] * room_hght\n",
    "    #Unit Conversion\n",
    "    room_dic['room_volume_m'] = room_dic['room_area'] * room_hght * CUBIC_FT_TO_METERS\n",
    "    \n",
    "    return room_dic"
   ]
  },
  {
   "cell_type": "code",
   "execution_count": 19,
   "metadata": {},
   "outputs": [
    {
     "data": {
      "text/plain": [
       "{'room_area': 3428,\n",
       " 'room_hght': 21.0,\n",
       " 'cfm_min': 3500.0,\n",
       " 'cfm_max': 7000.0,\n",
       " 'windows': nan,\n",
       " 'room_volume': 71988.0,\n",
       " 'room_volume_m': 2038.4697984}"
      ]
     },
     "execution_count": 19,
     "metadata": {},
     "output_type": "execute_result"
    }
   ],
   "source": [
    "get_room_data(data_path + rid_path, \"CENTER 101\")"
   ]
  }
 ],
 "metadata": {
  "kernelspec": {
   "display_name": "Python 3",
   "language": "python",
   "name": "python3"
  },
  "language_info": {
   "codemirror_mode": {
    "name": "ipython",
    "version": 3
   },
   "file_extension": ".py",
   "mimetype": "text/x-python",
   "name": "python",
   "nbconvert_exporter": "python",
   "pygments_lexer": "ipython3",
   "version": "3.7.6"
  }
 },
 "nbformat": 4,
 "nbformat_minor": 2
}
