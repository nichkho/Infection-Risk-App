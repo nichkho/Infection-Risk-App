{
 "cells": [
  {
   "cell_type": "markdown",
   "metadata": {},
   "source": [
    "<h1><center>Airborne Infection Risk Estimator for Indoor Environments\n",
    "</center></h1>\n",
    "\n",
    "<center>By Etienne Doidic, Zhexu Li, and Nicholas Kho <center>"
   ]
  },
  {
   "cell_type": "markdown",
   "metadata": {},
   "source": [
    "The global pandemic of COVID-19 has demonstrated the exceptional transmissibility of the SARS-CoV-2 virus and has highlighted the vulnerability of the built environment to airborne pathogens. \n",
    "As buildings today reopen it is important to understand the risk of airborne infection based on building and occupant features, for not only the current pandemic, but for future ones as well. One method that has been developed to address this problem is the infection risk calculator. These calculators allow users to input variables such as the number of occupants,  room dimensions, air change per hour (ACH), masks/no masks, etc., in order to determine the risk of infected person(s) transmitting a virus to susceptible people the room [Lelieveld et al. 2020](https://doi.org/10.3390/ijerph17218114).\n",
    "\n",
    "While these calculators may be convenient in some cases, they are “black box” algorithms, meaning the underlying code is not accessible or transparent to users. With a large amount of skepticism surrounding the academic literature regarding this virus and its transmission [[Scheirer 2020]](https://doi.org/10.1080/00963402.2020.1778361), we believe it is important infection risk calculators are as transparent as possible. So we have placed all of our assumptions and their sources in assumptions.py, which can be accessed on the user interface website. \n",
    "\n",
    "In this notebook we describe our methods for developing our own infection risk algorithm for the SARS-CoV-2 virus, compiling room data from the UC San Diego campus, and compiling it into a website. "
   ]
  },
  {
   "cell_type": "code",
   "execution_count": 1,
   "metadata": {},
   "outputs": [],
   "source": [
    "#Imports\n",
    "import matplotlib.pyplot as plt\n",
    "import numpy as np\n",
    "import sys\n",
    "import os\n",
    "sys_path = os.path.dirname(os.getcwd())\n",
    "src_path = sys_path + \"/src\"\n",
    "\n",
    "sys.path.insert(1, src_path)\n",
    "from calculator import * \n",
    "assumptions = var\n",
    "src_path = sys_path + \"/notebook\"\n",
    "\n",
    "sys.path.insert(1, src_path)\n"
   ]
  },
  {
   "cell_type": "markdown",
   "metadata": {},
   "source": [
    "## Airborne Infection Risk Estimator"
   ]
  },
  {
   "cell_type": "markdown",
   "metadata": {},
   "source": [
    "### How does it Work?"
   ]
  },
  {
   "cell_type": "markdown",
   "metadata": {},
   "source": [
    "To calculate the risk of infection in a given room, the emmission rate of quanta is needed. A quantum is defined as the viral load i.e. the dose of contaminated airborne droplet nuclei required to cause infection in 63% of persons. \n",
    "The emmission rate of quanta is caclulated with the following formula:\n",
    "![title](images/formula1.1.png)\n",
    "\n",
    "[Morawska et al. 2020](https://doi.org/10.1016/j.envint.2020.105794)"
   ]
  },
  {
   "cell_type": "markdown",
   "metadata": {},
   "source": [
    "<b>Ni</b> is the droplet concentrations by diameter in <b>particles per cubic centimeter</b>. The droplet concentrations are dependent on the expiratory activity of the infected person. Droplet concentrations by diameter were taken from [Morawska et al. 2009](https://doi.org/10.1016/j.jaerosci.2008.11.002). \"Speaking\" was considered to be the average of \"singing\" and \"counting.\" "
   ]
  },
  {
   "cell_type": "code",
   "execution_count": 2,
   "metadata": {},
   "outputs": [
    {
     "data": {
      "text/html": [
       "<div>\n",
       "<style scoped>\n",
       "    .dataframe tbody tr th:only-of-type {\n",
       "        vertical-align: middle;\n",
       "    }\n",
       "\n",
       "    .dataframe tbody tr th {\n",
       "        vertical-align: top;\n",
       "    }\n",
       "\n",
       "    .dataframe thead th {\n",
       "        text-align: right;\n",
       "    }\n",
       "</style>\n",
       "<table border=\"1\" class=\"dataframe\">\n",
       "  <thead>\n",
       "    <tr style=\"text-align: right;\">\n",
       "      <th></th>\n",
       "      <th>speaking</th>\n",
       "      <th>counting</th>\n",
       "      <th>whispering</th>\n",
       "      <th>singing</th>\n",
       "      <th>breathing</th>\n",
       "    </tr>\n",
       "  </thead>\n",
       "  <tbody>\n",
       "    <tr>\n",
       "      <th>.8μm</th>\n",
       "      <td>0.4935</td>\n",
       "      <td>0.236</td>\n",
       "      <td>0.110</td>\n",
       "      <td>0.751</td>\n",
       "      <td>0.084</td>\n",
       "    </tr>\n",
       "    <tr>\n",
       "      <th>1.8μm</th>\n",
       "      <td>0.1035</td>\n",
       "      <td>0.068</td>\n",
       "      <td>0.014</td>\n",
       "      <td>0.139</td>\n",
       "      <td>0.009</td>\n",
       "    </tr>\n",
       "    <tr>\n",
       "      <th>3.5μm</th>\n",
       "      <td>0.0730</td>\n",
       "      <td>0.007</td>\n",
       "      <td>0.004</td>\n",
       "      <td>0.139</td>\n",
       "      <td>0.003</td>\n",
       "    </tr>\n",
       "    <tr>\n",
       "      <th>5.5μm</th>\n",
       "      <td>0.0350</td>\n",
       "      <td>0.011</td>\n",
       "      <td>0.002</td>\n",
       "      <td>0.059</td>\n",
       "      <td>0.002</td>\n",
       "    </tr>\n",
       "  </tbody>\n",
       "</table>\n",
       "</div>"
      ],
      "text/plain": [
       "       speaking  counting  whispering  singing  breathing\n",
       ".8μm     0.4935     0.236       0.110    0.751      0.084\n",
       "1.8μm    0.1035     0.068       0.014    0.139      0.009\n",
       "3.5μm    0.0730     0.007       0.004    0.139      0.003\n",
       "5.5μm    0.0350     0.011       0.002    0.059      0.002"
      ]
     },
     "execution_count": 2,
     "metadata": {},
     "output_type": "execute_result"
    }
   ],
   "source": [
    "pd.DataFrame(assumptions['droplet_conc'])"
   ]
  },
  {
   "cell_type": "markdown",
   "metadata": {},
   "source": [
    "<b>cv</b> corresponds to the <b>viral load in the sputum</b> (i.e. infectious mucus) of the infected person, expressed in <b>RNA copies per mililiter</b>. The viral load in sputum of an infected person varies and is dependent on the stage of infection [[Yu et al. 2020]](https://doi.org/10.1186/s13054-020-02893-8).\n",
    "A range of 1e5 - 1e9 RNA copies per mililiter for viral load in the sputum is determined but for this experiment we will choose the maximum viral load to simulate the worst case scenario for infection spread [[Walsh et al. 2020]](https://doi.org/10.1016/j.jinf.2020.06.067).\n",
    "\n",
    "<b>ci</b> is a conversion factor defined as the ratio between one infectious quantum and the infectious dose expressed in viral RNA copies, expressed in <b>quanta per RNA copies</b>. A survey of ci's indicates a range of .01 to .1 but finally a ci of .02 was selected to reflect the average value of the infectious doses reported in [Watanabe et al. 2010](https://onlinelibrary.wiley.com/doi/full/10.1111/j.1539-6924.2010.01427.x). The study covers SARS-CoV (not to be confused with SARS-CoV-2, the virus that causes COVID-19) but was selected because it provides a more well-studied report of the infectivity of coronaviruses, which has not possible for SARS-CoV-2 due to its very recent development.\n",
    "\n",
    "<b>Inhalation Rate (IR)</b> is the product of breathing rate and tidal volume, expressed in <b>cubic meters per hour</b>. IR is dependent on the activity of the infected subject. The following values were chosen from [Adams 1993](https://ww2.arb.ca.gov/sites/default/files/classic//research/apr/past/a033-205.pdf)\n"
   ]
  },
  {
   "cell_type": "markdown",
   "metadata": {},
   "source": [
    "Next we must calculate the quanta concentration as a function of time using the following equation:\n",
    "![title](images/formula1.png)\n",
    "[Gammaitoni, Nucci 1997](https://www.ncbi.nlm.nih.gov/pmc/articles/PMC2627642/)"
   ]
  },
  {
   "cell_type": "markdown",
   "metadata": {},
   "source": [
    "where <b>IVRR (hr−1)</b> represents the infectious virus removal rate in the space investigated. The infectious virus removal rate (IVRR) is the sum of three parameters [(Yang and Marr, 2011)](https://doi.org/10.1371/journal.pone.0021481): the air change per hour (<b>ACH</b>) via ventilation, the <b>particle deposition</b> on surfaces via gravitational settling, and the <b>viral inactivation rate</b> (i.e. how long the virus remains contagious in aerosol).\n",
    "\n",
    "<b>n0</b> represents the initial number of quanta in the space\n",
    "\n",
    "<b>I</b> is the number of infectious subjects, \n",
    "\n",
    "<b>V</b> is the volume of the indoor environment considered,\n",
    "\n",
    "and <b>ERq</b> is the abovementioned quanta emission rate (quanta h−1)\n",
    "\n",
    "This model was selected because it has been used in previous papers to estimate infection risk of other airborne diseases in indoor environments. For example [Wagner et al. 2009](https://bmcmedicine.biomedcentral.com/articles/10.1186/1741-7015-7-81)\n",
    "\n",
    "The <b>viral inactivation rate</b> of SARS-CoV2 was determined to be .63 by [Doremalen et al. 2020](https://doi.org/10.1056/nejmc2004973).\n",
    "\n",
    "<b>Deposition rate</b> is determined by the ratio of the settling velocity of the micrometric particles (1e-4 m/s) and \n",
    "assuming the height of the emmission source. Given the average height of a person is 1.5 m, the deposition_rate is assumed to be .24 per hour [(Chatoutsidou and Lazaridis, 2019)](https://doi.org/10.1016/j.culher.2019.02.017)\n",
    "\n",
    "<b>ACH</b> is dependent on room conditions. Is a window open? Is the air conditioning pushing in new air? In order to determine the ACH we use the flow rate of the VAV inside of the room. VAV flow rates were determined using VAV spec sheets."
   ]
  },
  {
   "cell_type": "markdown",
   "metadata": {},
   "source": [
    "<b>n0</b> or initial quanta is assumed to be zero in our experiment. This is because there doesn't seem to be an accurate way of determining this value. Assuming a natural ventilation ACH of .2, the IVRR would be 1.02(hr-1) meaning that in a little under an hour any viral particles would be inactive. So for the sake of this experiment we will assume the room has been empty for about an hour beforehand. "
   ]
  },
  {
   "cell_type": "markdown",
   "metadata": {},
   "source": [
    "Finally, to determine the the number of predicted susceptible people infected after the exposure time, we must find the product of the infection risk R and the number of susceptible people. \n",
    "To find R, we use the function below\n",
    "![title](images/formula3.png)"
   ]
  },
  {
   "cell_type": "markdown",
   "metadata": {},
   "source": [
    "### Let's Try Out Some Estimations"
   ]
  },
  {
   "cell_type": "code",
   "execution_count": 3,
   "metadata": {},
   "outputs": [
    {
     "name": "stdout",
     "output_type": "stream",
     "text": [
      "Emission rate in quanta per hour for an infected singer exercising heavily: 429.40479084296925\n",
      "                                 for an infected resting person whispering: 2.207333975988981\n"
     ]
    }
   ],
   "source": [
    "#Emmission Rates based on activity using the Morawska et al. equation\n",
    "ERq1 = get_quanta_emmission_rate('heavy_exercise', 'singing',assumptions)\n",
    "ERq2 = get_quanta_emmission_rate('resting', 'whispering', assumptions)\n",
    "print('Emission rate in quanta per hour for an infected singer exercising heavily: ' + str(ERq1))\n",
    "print('                                 for an infected resting person whispering: ' + str(ERq2))"
   ]
  },
  {
   "cell_type": "markdown",
   "metadata": {},
   "source": [
    "Below is the quanta concentration over time using the recomended airflow from ASHRAE for Center 115, and no ventilation."
   ]
  },
  {
   "cell_type": "code",
   "execution_count": 14,
   "metadata": {},
   "outputs": [
    {
     "data": {
      "image/png": "[encoded data removed]",
      "text/plain": [
       "<Figure size 432x288 with 1 Axes>"
      ]
     },
     "metadata": {
      "needs_background": "light"
     },
     "output_type": "display_data"
    }
   ],
   "source": [
    "#Now lets estimate quanta concentration\n",
    "room_dic = get_room_data(sys_path + '/data/masterBuildingData.csv', 'Center Hall', '101')\n",
    "ach = get_air_changes_per_hour(room_dic['ASHRAE_Airflow'], room_dic['Volume'])\n",
    "#IVRR is the sum of the deposition rate, inactivation rate, and the Air change rate\n",
    "ivrr = .63 + .24 + ach\n",
    "t = 1\n",
    "def quanta_concentration(t, I = 1, ERq = ERq1, V = room_dic['room_volume_m'], n0 = 0, IVRR = ivrr):\n",
    "    return ((ERq * I) / (IVRR * V)) + (n0 + ((ERq * I) / IVRR)) * ((np.e**(-IVRR * t)) / V)\n",
    "\n",
    "fig = plt.figure()\n",
    "ax = plt.axes()\n",
    "plt.xlabel('Time (hr.)')\n",
    "plt.ylabel('Quanta per cubic meter')\n",
    "plt.title('Minimum Ventilation')\n",
    "f2 = np.vectorize(quanta_concentration) \n",
    "x = np.linspace(0, t)\n",
    "ax.plot(x, f2(x));"
   ]
  },
  {
   "cell_type": "code",
   "execution_count": 15,
   "metadata": {},
   "outputs": [
    {
     "data": {
      "image/png": "[encoded data removed]",
      "text/plain": [
       "<Figure size 432x288 with 1 Axes>"
      ]
     },
     "metadata": {
      "needs_background": "light"
     },
     "output_type": "display_data"
    }
   ],
   "source": [
    "ivrr = .63 + .24\n",
    "def quanta_concentration(t, I = 1, ERq = ERq1, V = room_dic['room_volume_m'], n0 = 0, IVRR = ivrr):\n",
    "    return ((ERq * I) / (IVRR * V)) + (n0 + ((ERq * I) / IVRR)) * ((np.e**(-IVRR * t)) / V)\n",
    "\n",
    "fig = plt.figure()\n",
    "ax = plt.axes()\n",
    "plt.xlabel('Time (hr.)')\n",
    "plt.ylabel('Quanta per cubic meter')\n",
    "plt.title('Minimum Ventilation')\n",
    "f2 = np.vectorize(quanta_concentration) \n",
    "x = np.linspace(0, t)\n",
    "ax.plot(x, f2(x));"
   ]
  },
  {
   "cell_type": "markdown",
   "metadata": {},
   "source": [
    "As we can see ventilation versus no ventilation is the difference between exponential decay of pathogenic material in the air and more linear decay\n",
    "\n",
    "With our infection_risk function, calculating the infection_risk can be done simply by inputing the duration of the event, the building, room id, number of occupants, activity, and mask wearing (True or False).\n",
    "The average of two risks can be used to get the risk associated with doing both sets of activities. "
   ]
  },
  {
   "cell_type": "code",
   "execution_count": 26,
   "metadata": {},
   "outputs": [
    {
     "name": "stdout",
     "output_type": "stream",
     "text": [
      "It is estimated that an individual has 1.7540425442991503% chance to be infected\n",
      "It is estimated that 0.017540425442991503 x 50 = 0 susceptible occupants will be infected\n",
      "It is estimated that an individual has 0.014605772984221943% chance to be infected\n",
      "It is estimated that 0.00014605772984221943 x 50 = 0 susceptible occupants will be infected\n"
     ]
    }
   ],
   "source": [
    "#Infection Risk\n",
    "walking_talking_risk = infection_risk(t, 'Center Hall', '101', 50, 'light_exercise', 'speaking', False, sys_path + '/data/masterBuildingData.csv')\n",
    "sitting_whisper_risk = infection_risk(t, 'Center Hall', '101', 50, 'resting', 'whispering', False, sys_path + '/data/masterBuildingData.csv')\n",
    "average_risk = (walking_talking_risk + sitting_whisper_risk) /2"
   ]
  },
  {
   "cell_type": "code",
   "execution_count": 17,
   "metadata": {},
   "outputs": [
    {
     "data": {
      "text/plain": [
       "0.008843241586416861"
      ]
     },
     "execution_count": 17,
     "metadata": {},
     "output_type": "execute_result"
    }
   ],
   "source": [
    "average_risk"
   ]
  },
  {
   "cell_type": "markdown",
   "metadata": {},
   "source": [
    "Now we can estimate the relative risks associated with difference activities, shown below"
   ]
  },
  {
   "cell_type": "code",
   "execution_count": 18,
   "metadata": {},
   "outputs": [
    {
     "name": "stdout",
     "output_type": "stream",
     "text": [
      "It is estimated that an individual has 0.22285722611271597% chance to be infected\n",
      "It is estimated that 0.0022285722611271597 x 50 = 0 susceptible occupants will be infected\n",
      "It is estimated that an individual has 0.27059402794856746% chance to be infected\n",
      "It is estimated that 0.0027059402794856746 x 50 = 0 susceptible occupants will be infected\n",
      "It is estimated that an individual has 1.7540425442991503% chance to be infected\n",
      "It is estimated that 0.017540425442991503 x 50 = 0 susceptible occupants will be infected\n",
      "It is estimated that an individual has 5.002177964381471% chance to be infected\n",
      "It is estimated that 0.05002177964381471 x 50 = 2 susceptible occupants will be infected\n",
      "It is estimated that an individual has 9.624064015586221% chance to be infected\n",
      "It is estimated that 0.0962406401558622 x 50 = 4 susceptible occupants will be infected\n"
     ]
    },
    {
     "data": {
      "text/plain": [
       "<BarContainer object of 5 artists>"
      ]
     },
     "execution_count": 18,
     "metadata": {},
     "output_type": "execute_result"
    },
    {
     "data": {
      "image/png": "[encoded data removed]",
      "text/plain": [
       "<Figure size 432x288 with 1 Axes>"
      ]
     },
     "metadata": {
      "needs_background": "light"
     },
     "output_type": "display_data"
    }
   ],
   "source": [
    "sitting_talking_risk = infection_risk(t, 'Center Hall', '101', 50, 'resting', 'speaking', False, sys_path + '/data/masterBuildingData.csv')\n",
    "standing_talking_risk = infection_risk(t, 'Center Hall', '101', 50, 'standing', 'speaking', False, sys_path + '/data/masterBuildingData.csv')\n",
    "walking_talking_risk = infection_risk(t, 'Center Hall', '101', 50, 'light_exercise', 'speaking', False, sys_path + '/data/masterBuildingData.csv')\n",
    "\n",
    "running_talking_risk = infection_risk(t, 'Center Hall', '101', 50, 'moderate_exercise', 'speaking', False, sys_path + '/data/masterBuildingData.csv')\n",
    "\n",
    "exercising_talking_risk = infection_risk(t, 'Center Hall', '101', 50, 'heavy_exercise', 'speaking', False, sys_path + '/data/masterBuildingData.csv')\n",
    "\n",
    "fig = plt.figure()\n",
    "ax = plt.axes()\n",
    "plt.xlabel('Activities')\n",
    "plt.ylabel('Infection Risks')\n",
    "plt.title('Activities vs. Infection Risks')\n",
    "actno = [\"sitting\", \"standing\", \"walking\", \"running\", \"exercising\"]\n",
    "risks = [sitting_talking_risk, standing_talking_risk, walking_talking_risk, running_talking_risk, exercising_talking_risk]\n",
    "ax.bar(actno, risks)"
   ]
  },
  {
   "cell_type": "code",
   "execution_count": 19,
   "metadata": {},
   "outputs": [
    {
     "name": "stdout",
     "output_type": "stream",
     "text": [
      "It is estimated that an individual has 0.27059402794856746% chance to be infected\n",
      "It is estimated that 0.0027059402794856746 x 50 = 0 susceptible occupants will be infected\n",
      "It is estimated that an individual has 0.07310923392100932% chance to be infected\n",
      "It is estimated that 0.0007310923392100932 x 50 = 0 susceptible occupants will be infected\n",
      "It is estimated that an individual has 0.017738345210016604% chance to be infected\n",
      "It is estimated that 0.00017738345210016604 x 50 = 0 susceptible occupants will be infected\n",
      "It is estimated that an individual has 0.4676885342010051% chance to be infected\n",
      "It is estimated that 0.004676885342010051 x 50 = 0 susceptible occupants will be infected\n",
      "It is estimated that an individual has 0.015381204623698963% chance to be infected\n",
      "It is estimated that 0.00015381204623698963 x 50 = 0 susceptible occupants will be infected\n"
     ]
    },
    {
     "data": {
      "text/plain": [
       "<BarContainer object of 5 artists>"
      ]
     },
     "execution_count": 19,
     "metadata": {},
     "output_type": "execute_result"
    },
    {
     "data": {
      "image/png": "[encoded data removed]",
      "text/plain": [
       "<Figure size 432x288 with 1 Axes>"
      ]
     },
     "metadata": {
      "needs_background": "light"
     },
     "output_type": "display_data"
    }
   ],
   "source": [
    "speaking = infection_risk(t, 'Center Hall', '101', 50, 'standing', 'speaking', False, sys_path + '/data/masterBuildingData.csv')\n",
    "counting = infection_risk(t, 'Center Hall', '101', 50, 'standing', 'counting', False, sys_path + '/data/masterBuildingData.csv')\n",
    "whispering = infection_risk(t, 'Center Hall', '101', 50, 'standing', 'whispering', False, sys_path + '/data/masterBuildingData.csv')\n",
    "singing = infection_risk(t, 'Center Hall', '101', 50, 'standing', 'singing', False, sys_path + '/data/masterBuildingData.csv')\n",
    "breathing = infection_risk(t, 'Center Hall', '101', 50, 'standing', 'breathing', False, sys_path + '/data/masterBuildingData.csv')\n",
    "\n",
    "fig = plt.figure()\n",
    "ax = plt.axes()\n",
    "plt.xlabel('Expiratory Activities')\n",
    "plt.ylabel('Infection Risks')\n",
    "plt.title('Expiratory Activities vs. Infection Risks')\n",
    "actno = [\"breathing\", \"whispering\", \"counting\", \"speaking\", \"singing\"]\n",
    "risks = [breathing, whispering, counting, speaking, singing]\n",
    "ax.bar(actno, risks)"
   ]
  },
  {
   "cell_type": "markdown",
   "metadata": {},
   "source": [
    "### Results and Discussion"
   ]
  },
  {
   "cell_type": "markdown",
   "metadata": {},
   "source": [
    "The purpose of this calculator is to give building users a better understanding of how infection can be spread. Our findings give insight into effective methods for mitigating infection risk in indoor environments. A significant driver in infection risk is the type of physical activity. Heavier breathing increases risk of infection exponentially. Likewise more intense expiratory activity like speaking loudly or singing would increase risk of infection. A large factor in risk mitigation is ventilation. No ventilation at all, we observed, causes a linear decrease in quanta concentration, while minimal ventilation will produce an exponential decrease. \n",
    "\n",
    "Unfortunately the effect of social distancing and mask wearing was not directly addressed by this model. Social distancing was indirectly addressed by the assumed 1.5m (>6ft) distance from the emission source in calculating deposition rate. In other words, the deposition rate does not account for pathogenic material depositing on another person in the final risk estimation.\n",
    "\n",
    "It is important to note that our model of quanta concentration assumes that the air change will begin at t = 0 so the quanta concentration will continue to decrease over time. This implies the building HVAC system would ventilate in a constant fashion. In reality, HVAC systems tend to work in a cyclical fashion, providing short spurts of air to maintain stable temperatures. Below is an figure from Gupta et al. \"Zonal Air Handling in Commercial Buildings\" depicting this behavior. \n",
    "![title](images/supplyairflow.png)\n",
    "This model does not yet reflect this cyclical nature.\n",
    "\n",
    "Additionally, the assumptions used to produce this model are limited to the existing academic literature regarding the novel coronavirus. For example, the quanta per RNA copy assumed in our model was taken from literature regarding SARS-CoV-1, not SARS-CoV2, because such information does not currently exist.  \n",
    "\n",
    "Also, the infection rate is a constantly changing value, and is not currently up to date in our assumptions."
   ]
  },
  {
   "cell_type": "markdown",
   "metadata": {},
   "source": [
    "## Room Data"
   ]
  },
  {
   "cell_type": "markdown",
   "metadata": {},
   "source": [
    "In order to provide an easy to use application for users at UC San Diego we decided to provide room information so it does not have to be imputed by the user. \n",
    "The process for getting the room data involved pulling it from the university's building database, selecting areas that would be used commonly by building occupants (e.g. offices, classrooms, laboratories, etc.), and imputing room information based on the use. \n",
    "\n",
    "Below is the data in its raw form:"
   ]
  },
  {
   "cell_type": "code",
   "execution_count": 24,
   "metadata": {},
   "outputs": [
    {
     "data": {
      "text/html": [
       "<div>\n",
       "<style scoped>\n",
       "    .dataframe tbody tr th:only-of-type {\n",
       "        vertical-align: middle;\n",
       "    }\n",
       "\n",
       "    .dataframe tbody tr th {\n",
       "        vertical-align: top;\n",
       "    }\n",
       "\n",
       "    .dataframe thead th {\n",
       "        text-align: right;\n",
       "    }\n",
       "</style>\n",
       "<table border=\"1\" class=\"dataframe\">\n",
       "  <thead>\n",
       "    <tr style=\"text-align: right;\">\n",
       "      <th></th>\n",
       "      <th>Building</th>\n",
       "      <th>Floor</th>\n",
       "      <th>Suite</th>\n",
       "      <th>Room</th>\n",
       "      <th>Space</th>\n",
       "      <th>Pct</th>\n",
       "      <th>Area</th>\n",
       "      <th>Stations</th>\n",
       "      <th>Category</th>\n",
       "      <th>Description</th>\n",
       "      <th>Room Use (S)</th>\n",
       "      <th>CPEC Code</th>\n",
       "      <th>Department</th>\n",
       "      <th>Program</th>\n",
       "      <th>System (S/C/R)</th>\n",
       "      <th>Cost Codes</th>\n",
       "      <th>PI/Manager</th>\n",
       "      <th>Occupants</th>\n",
       "      <th>Utilization</th>\n",
       "      <th>Home Page</th>\n",
       "    </tr>\n",
       "  </thead>\n",
       "  <tbody>\n",
       "    <tr>\n",
       "      <th>0</th>\n",
       "      <td>Biology Building</td>\n",
       "      <td>Basement</td>\n",
       "      <td>NaN</td>\n",
       "      <td>(C)B030A</td>\n",
       "      <td>NaN</td>\n",
       "      <td>100%</td>\n",
       "      <td>1007</td>\n",
       "      <td>NaN</td>\n",
       "      <td>C - Public Circulation</td>\n",
       "      <td>NaN</td>\n",
       "      <td>NaN</td>\n",
       "      <td>NaN</td>\n",
       "      <td>NaN</td>\n",
       "      <td>NaN</td>\n",
       "      <td>NaN</td>\n",
       "      <td>NaN</td>\n",
       "      <td>NaN</td>\n",
       "      <td>NaN</td>\n",
       "      <td>NaN</td>\n",
       "      <td>https://facilities.ucsd.edu/Buildings/Rooms/Ho...</td>\n",
       "    </tr>\n",
       "    <tr>\n",
       "      <th>1</th>\n",
       "      <td>Biology Building</td>\n",
       "      <td>Basement</td>\n",
       "      <td>NaN</td>\n",
       "      <td>(C)B030B</td>\n",
       "      <td>NaN</td>\n",
       "      <td>100%</td>\n",
       "      <td>559</td>\n",
       "      <td>NaN</td>\n",
       "      <td>C - Public Circulation</td>\n",
       "      <td>NaN</td>\n",
       "      <td>NaN</td>\n",
       "      <td>NaN</td>\n",
       "      <td>NaN</td>\n",
       "      <td>NaN</td>\n",
       "      <td>NaN</td>\n",
       "      <td>NaN</td>\n",
       "      <td>NaN</td>\n",
       "      <td>NaN</td>\n",
       "      <td>NaN</td>\n",
       "      <td>https://facilities.ucsd.edu/Buildings/Rooms/Ho...</td>\n",
       "    </tr>\n",
       "    <tr>\n",
       "      <th>2</th>\n",
       "      <td>Biology Building</td>\n",
       "      <td>Basement</td>\n",
       "      <td>NaN</td>\n",
       "      <td>(CE)B040</td>\n",
       "      <td>NaN</td>\n",
       "      <td>100%</td>\n",
       "      <td>152</td>\n",
       "      <td>NaN</td>\n",
       "      <td>C - Public Circulation</td>\n",
       "      <td>NaN</td>\n",
       "      <td>NaN</td>\n",
       "      <td>NaN</td>\n",
       "      <td>NaN</td>\n",
       "      <td>NaN</td>\n",
       "      <td>NaN</td>\n",
       "      <td>NaN</td>\n",
       "      <td>NaN</td>\n",
       "      <td>NaN</td>\n",
       "      <td>NaN</td>\n",
       "      <td>https://facilities.ucsd.edu/Buildings/Rooms/Ho...</td>\n",
       "    </tr>\n",
       "    <tr>\n",
       "      <th>3</th>\n",
       "      <td>Biology Building</td>\n",
       "      <td>Basement</td>\n",
       "      <td>NaN</td>\n",
       "      <td>(CS)B030C</td>\n",
       "      <td>NaN</td>\n",
       "      <td>100%</td>\n",
       "      <td>100</td>\n",
       "      <td>NaN</td>\n",
       "      <td>C - Public Circulation</td>\n",
       "      <td>NaN</td>\n",
       "      <td>NaN</td>\n",
       "      <td>NaN</td>\n",
       "      <td>NaN</td>\n",
       "      <td>NaN</td>\n",
       "      <td>NaN</td>\n",
       "      <td>NaN</td>\n",
       "      <td>NaN</td>\n",
       "      <td>NaN</td>\n",
       "      <td>NaN</td>\n",
       "      <td>https://facilities.ucsd.edu/Buildings/Rooms/Ho...</td>\n",
       "    </tr>\n",
       "    <tr>\n",
       "      <th>4</th>\n",
       "      <td>Biology Building</td>\n",
       "      <td>Basement</td>\n",
       "      <td>NaN</td>\n",
       "      <td>(J)B036</td>\n",
       "      <td>NaN</td>\n",
       "      <td>100%</td>\n",
       "      <td>32</td>\n",
       "      <td>NaN</td>\n",
       "      <td>J - Custodial Support</td>\n",
       "      <td>NaN</td>\n",
       "      <td>NaN</td>\n",
       "      <td>NaN</td>\n",
       "      <td>NaN</td>\n",
       "      <td>NaN</td>\n",
       "      <td>NaN</td>\n",
       "      <td>NaN</td>\n",
       "      <td>NaN</td>\n",
       "      <td>NaN</td>\n",
       "      <td>NaN</td>\n",
       "      <td>https://facilities.ucsd.edu/Buildings/Rooms/Ho...</td>\n",
       "    </tr>\n",
       "  </tbody>\n",
       "</table>\n",
       "</div>"
      ],
      "text/plain": [
       "           Building     Floor  Suite       Room Space   Pct  Area  Stations  \\\n",
       "0  Biology Building  Basement    NaN   (C)B030A   NaN  100%  1007       NaN   \n",
       "1  Biology Building  Basement    NaN   (C)B030B   NaN  100%   559       NaN   \n",
       "2  Biology Building  Basement    NaN   (CE)B040   NaN  100%   152       NaN   \n",
       "3  Biology Building  Basement    NaN  (CS)B030C   NaN  100%   100       NaN   \n",
       "4  Biology Building  Basement    NaN    (J)B036   NaN  100%    32       NaN   \n",
       "\n",
       "                 Category Description Room Use (S) CPEC Code Department  \\\n",
       "0  C - Public Circulation         NaN          NaN       NaN        NaN   \n",
       "1  C - Public Circulation         NaN          NaN       NaN        NaN   \n",
       "2  C - Public Circulation         NaN          NaN       NaN        NaN   \n",
       "3  C - Public Circulation         NaN          NaN       NaN        NaN   \n",
       "4   J - Custodial Support         NaN          NaN       NaN        NaN   \n",
       "\n",
       "  Program System (S/C/R)  Cost Codes PI/Manager Occupants Utilization  \\\n",
       "0     NaN            NaN         NaN        NaN       NaN         NaN   \n",
       "1     NaN            NaN         NaN        NaN       NaN         NaN   \n",
       "2     NaN            NaN         NaN        NaN       NaN         NaN   \n",
       "3     NaN            NaN         NaN        NaN       NaN         NaN   \n",
       "4     NaN            NaN         NaN        NaN       NaN         NaN   \n",
       "\n",
       "                                           Home Page  \n",
       "0  https://facilities.ucsd.edu/Buildings/Rooms/Ho...  \n",
       "1  https://facilities.ucsd.edu/Buildings/Rooms/Ho...  \n",
       "2  https://facilities.ucsd.edu/Buildings/Rooms/Ho...  \n",
       "3  https://facilities.ucsd.edu/Buildings/Rooms/Ho...  \n",
       "4  https://facilities.ucsd.edu/Buildings/Rooms/Ho...  "
      ]
     },
     "execution_count": 24,
     "metadata": {},
     "output_type": "execute_result"
    }
   ],
   "source": [
    "pd.read_csv('fm_building_data/BiologyBuildingRooms.csv').head()"
   ]
  },
  {
   "cell_type": "markdown",
   "metadata": {},
   "source": [
    "To process the data, relevant rooms were selected and placed into [ASHRAE](https://www.ashrae.org/about) categories based on room use. From there the occupancy was imputed if not already provided, then the room area and room occupancy are used to determine the ASHRAE standard airflow rate. An average height of 10 ft. is currently imputed for all rooms.\n",
    "\n",
    "Below is the processed data"
   ]
  },
  {
   "cell_type": "code",
   "execution_count": 31,
   "metadata": {},
   "outputs": [
    {
     "data": {
      "text/html": [
       "<div>\n",
       "<style scoped>\n",
       "    .dataframe tbody tr th:only-of-type {\n",
       "        vertical-align: middle;\n",
       "    }\n",
       "\n",
       "    .dataframe tbody tr th {\n",
       "        vertical-align: top;\n",
       "    }\n",
       "\n",
       "    .dataframe thead th {\n",
       "        text-align: right;\n",
       "    }\n",
       "</style>\n",
       "<table border=\"1\" class=\"dataframe\">\n",
       "  <thead>\n",
       "    <tr style=\"text-align: right;\">\n",
       "      <th></th>\n",
       "      <th>Unnamed: 0</th>\n",
       "      <th>Building</th>\n",
       "      <th>Room</th>\n",
       "      <th>Area</th>\n",
       "      <th>heightImputed</th>\n",
       "      <th>Occupancy</th>\n",
       "      <th>occupancyImputed_TF</th>\n",
       "      <th>ASHRAE_Airflow</th>\n",
       "      <th>maxAirflow</th>\n",
       "    </tr>\n",
       "  </thead>\n",
       "  <tbody>\n",
       "    <tr>\n",
       "      <th>0</th>\n",
       "      <td>0</td>\n",
       "      <td>Mandeville Center</td>\n",
       "      <td>B202</td>\n",
       "      <td>3070</td>\n",
       "      <td>10</td>\n",
       "      <td>15.35</td>\n",
       "      <td>True</td>\n",
       "      <td>260.95</td>\n",
       "      <td>NaN</td>\n",
       "    </tr>\n",
       "    <tr>\n",
       "      <th>1</th>\n",
       "      <td>1</td>\n",
       "      <td>Mandeville Center</td>\n",
       "      <td>B206</td>\n",
       "      <td>1959</td>\n",
       "      <td>10</td>\n",
       "      <td>40.00</td>\n",
       "      <td>False</td>\n",
       "      <td>417.54</td>\n",
       "      <td>NaN</td>\n",
       "    </tr>\n",
       "    <tr>\n",
       "      <th>2</th>\n",
       "      <td>2</td>\n",
       "      <td>Mandeville Center</td>\n",
       "      <td>B210</td>\n",
       "      <td>3091</td>\n",
       "      <td>10</td>\n",
       "      <td>158.00</td>\n",
       "      <td>False</td>\n",
       "      <td>1370.46</td>\n",
       "      <td>NaN</td>\n",
       "    </tr>\n",
       "    <tr>\n",
       "      <th>3</th>\n",
       "      <td>3</td>\n",
       "      <td>Mandeville Center</td>\n",
       "      <td>B104</td>\n",
       "      <td>864</td>\n",
       "      <td>10</td>\n",
       "      <td>42.00</td>\n",
       "      <td>False</td>\n",
       "      <td>366.84</td>\n",
       "      <td>NaN</td>\n",
       "    </tr>\n",
       "    <tr>\n",
       "      <th>4</th>\n",
       "      <td>4</td>\n",
       "      <td>Mandeville Center</td>\n",
       "      <td>B108</td>\n",
       "      <td>864</td>\n",
       "      <td>10</td>\n",
       "      <td>6.00</td>\n",
       "      <td>False</td>\n",
       "      <td>96.84</td>\n",
       "      <td>NaN</td>\n",
       "    </tr>\n",
       "  </tbody>\n",
       "</table>\n",
       "</div>"
      ],
      "text/plain": [
       "   Unnamed: 0           Building  Room  Area  heightImputed  Occupancy  \\\n",
       "0           0  Mandeville Center  B202  3070             10      15.35   \n",
       "1           1  Mandeville Center  B206  1959             10      40.00   \n",
       "2           2  Mandeville Center  B210  3091             10     158.00   \n",
       "3           3  Mandeville Center  B104   864             10      42.00   \n",
       "4           4  Mandeville Center  B108   864             10       6.00   \n",
       "\n",
       "   occupancyImputed_TF  ASHRAE_Airflow  maxAirflow  \n",
       "0                 True          260.95         NaN  \n",
       "1                False          417.54         NaN  \n",
       "2                False         1370.46         NaN  \n",
       "3                False          366.84         NaN  \n",
       "4                False           96.84         NaN  "
      ]
     },
     "execution_count": 31,
     "metadata": {},
     "output_type": "execute_result"
    }
   ],
   "source": [
    "pd.read_csv(sys_path + '/data/masterBuildingData.csv').head()"
   ]
  }
 ],
 "metadata": {
  "kernelspec": {
   "display_name": "Python 3",
   "language": "python",
   "name": "python3"
  },
  "language_info": {
   "codemirror_mode": {
    "name": "ipython",
    "version": 3
   },
   "file_extension": ".py",
   "mimetype": "text/x-python",
   "name": "python",
   "nbconvert_exporter": "python",
   "pygments_lexer": "ipython3",
   "version": "3.6.2"
  }
 },
 "nbformat": 4,
 "nbformat_minor": 4
}
